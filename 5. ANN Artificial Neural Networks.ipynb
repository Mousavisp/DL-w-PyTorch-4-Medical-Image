{
  "nbformat": 4,
  "nbformat_minor": 0,
  "metadata": {
    "colab": {
      "provenance": [],
      "authorship_tag": "ABX9TyPx+SJhbjUrnA2Kvv1ixp9m",
      "include_colab_link": true
    },
    "kernelspec": {
      "name": "python3",
      "display_name": "Python 3"
    },
    "language_info": {
      "name": "python"
    }
  },
  "cells": [
    {
      "cell_type": "markdown",
      "metadata": {
        "id": "view-in-github",
        "colab_type": "text"
      },
      "source": [
        "<a href=\"https://colab.research.google.com/github/Mousavisp/DL-w-PyTorch-4-Medical-Image/blob/main/5.%20ANN%20Artificial%20Neural%20Networks.ipynb\" target=\"_parent\"><img src=\"https://colab.research.google.com/assets/colab-badge.svg\" alt=\"Open In Colab\"/></a>"
      ]
    },
    {
      "cell_type": "code",
      "execution_count": 50,
      "metadata": {
        "id": "YMVkTSouEH3z"
      },
      "outputs": [],
      "source": [
        "import torch\n",
        "\n",
        "import numpy as np\n",
        "import pandas as pd\n",
        "import matplotlib.pyplot as plt\n",
        "import seaborn as sns\n",
        "\n",
        "import torch.nn as nn\n",
        "import torch.nn.functional as F\n",
        "\n",
        "from sklearn.model_selection import train_test_split\n",
        "from torch.utils.data import Dataset, DataLoader"
      ]
    },
    {
      "cell_type": "markdown",
      "source": [
        "# PyTorch Gradients"
      ],
      "metadata": {
        "id": "YAuO-FPeHOaz"
      }
    },
    {
      "cell_type": "code",
      "source": [
        "x = torch.tensor(2.0, requires_grad=True)"
      ],
      "metadata": {
        "id": "fzob8pt_ETQM"
      },
      "execution_count": 20,
      "outputs": []
    },
    {
      "cell_type": "code",
      "source": [
        "y = 2*x**4 + x**3 + 3*x**2 + 5*x + 1\n",
        "print(y)\n",
        "type(y)"
      ],
      "metadata": {
        "colab": {
          "base_uri": "https://localhost:8080/"
        },
        "id": "OGXrQLDoEa_g",
        "outputId": "cd72b6b6-190c-4391-c6ff-1099527476ba"
      },
      "execution_count": 21,
      "outputs": [
        {
          "output_type": "stream",
          "name": "stdout",
          "text": [
            "tensor(63., grad_fn=<AddBackward0>)\n"
          ]
        },
        {
          "output_type": "execute_result",
          "data": {
            "text/plain": [
              "torch.Tensor"
            ]
          },
          "metadata": {},
          "execution_count": 21
        }
      ]
    },
    {
      "cell_type": "markdown",
      "source": [
        "backprop"
      ],
      "metadata": {
        "id": "pYO4vGxWE160"
      }
    },
    {
      "cell_type": "code",
      "source": [
        "y.backward()"
      ],
      "metadata": {
        "id": "4ogEZeywEkOx"
      },
      "execution_count": 22,
      "outputs": []
    },
    {
      "cell_type": "markdown",
      "source": [
        "slope of x=2, f(x)=63 is x.grad\n",
        "\n",
        "(putting x=2 in f'(x) gives x.grad)"
      ],
      "metadata": {
        "id": "DqbS2ma3E4hl"
      }
    },
    {
      "cell_type": "code",
      "source": [
        "x.grad"
      ],
      "metadata": {
        "colab": {
          "base_uri": "https://localhost:8080/"
        },
        "id": "S_GmdQrDEss0",
        "outputId": "44eb978e-28ce-48b7-9dcf-790ae4b9e22c"
      },
      "execution_count": 23,
      "outputs": [
        {
          "output_type": "execute_result",
          "data": {
            "text/plain": [
              "tensor(93.)"
            ]
          },
          "metadata": {},
          "execution_count": 23
        }
      ]
    },
    {
      "cell_type": "code",
      "source": [
        "x = torch.tensor([[1.,2.,3.],[3.,2.,1.]],requires_grad=True)"
      ],
      "metadata": {
        "id": "ylTsrpGCEvhx"
      },
      "execution_count": 24,
      "outputs": []
    },
    {
      "cell_type": "code",
      "source": [
        "y = 3*x + 2\n",
        "z = 2*y**2\n",
        "\n",
        "print(y)\n",
        "print(z)"
      ],
      "metadata": {
        "colab": {
          "base_uri": "https://localhost:8080/"
        },
        "id": "FC1ONKfmFVMA",
        "outputId": "9066adf0-591a-4d76-e06a-de1f856e9c63"
      },
      "execution_count": 25,
      "outputs": [
        {
          "output_type": "stream",
          "name": "stdout",
          "text": [
            "tensor([[ 5.,  8., 11.],\n",
            "        [11.,  8.,  5.]], grad_fn=<AddBackward0>)\n",
            "tensor([[ 50., 128., 242.],\n",
            "        [242., 128.,  50.]], grad_fn=<MulBackward0>)\n"
          ]
        }
      ]
    },
    {
      "cell_type": "code",
      "source": [
        "out = z.mean()\n",
        "print(out)"
      ],
      "metadata": {
        "colab": {
          "base_uri": "https://localhost:8080/"
        },
        "id": "KKdYi2-YFk1G",
        "outputId": "cd7bfac9-8733-4ca7-8ab1-f452f479b0f4"
      },
      "execution_count": 26,
      "outputs": [
        {
          "output_type": "stream",
          "name": "stdout",
          "text": [
            "tensor(140., grad_fn=<MeanBackward0>)\n"
          ]
        }
      ]
    },
    {
      "cell_type": "markdown",
      "source": [
        "performing back-propagation to find the gradient of x with respect to $out$"
      ],
      "metadata": {
        "id": "L02f6alkGOVM"
      }
    },
    {
      "cell_type": "code",
      "source": [
        "out.backward()"
      ],
      "metadata": {
        "id": "t9bxsYvEFyTu"
      },
      "execution_count": 27,
      "outputs": []
    },
    {
      "cell_type": "markdown",
      "source": [
        "solving the derivative of $z$ with the **chain rule**: $f(g(x)) = f'(g(x))g'(x)$"
      ],
      "metadata": {
        "id": "n0tpn3DHGknP"
      }
    },
    {
      "cell_type": "code",
      "source": [
        "x.grad"
      ],
      "metadata": {
        "colab": {
          "base_uri": "https://localhost:8080/"
        },
        "id": "uHBd8KyUFzzK",
        "outputId": "e7f99445-0084-498c-8dac-14cbc7e5b60c"
      },
      "execution_count": 28,
      "outputs": [
        {
          "output_type": "execute_result",
          "data": {
            "text/plain": [
              "tensor([[10., 16., 22.],\n",
              "        [22., 16., 10.]])"
            ]
          },
          "metadata": {},
          "execution_count": 28
        }
      ]
    },
    {
      "cell_type": "markdown",
      "source": [
        "# Linear Model"
      ],
      "metadata": {
        "id": "L0cTIK3FHTVA"
      }
    },
    {
      "cell_type": "code",
      "source": [
        "X = torch.linspace(1,50,50).reshape(-1,1)\n",
        "e = torch.randint(-7,8, X.shape, dtype=torch.float)\n",
        "y = 2*X + 3 + e"
      ],
      "metadata": {
        "id": "5M048J6iF1o-"
      },
      "execution_count": 29,
      "outputs": []
    },
    {
      "cell_type": "markdown",
      "source": [
        "We can't plot a torch, so we need to change it to np"
      ],
      "metadata": {
        "id": "dXxt8weZIvAi"
      }
    },
    {
      "cell_type": "code",
      "source": [
        "plt.scatter(X.numpy(), y.numpy());"
      ],
      "metadata": {
        "colab": {
          "base_uri": "https://localhost:8080/",
          "height": 430
        },
        "id": "49nbJu2rIjKK",
        "outputId": "4801aac9-1357-4f48-90ba-e756176ad36f"
      },
      "execution_count": 30,
      "outputs": [
        {
          "output_type": "display_data",
          "data": {
            "text/plain": [
              "<Figure size 640x480 with 1 Axes>"
            ],
            "image/png": "[encoded data removed]"
          },
          "metadata": {}
        }
      ]
    },
    {
      "cell_type": "code",
      "source": [
        "model = nn.Linear(in_features=1, out_features=1)\n",
        "\n",
        "print(model.weight)\n",
        "print(model.bias)"
      ],
      "metadata": {
        "colab": {
          "base_uri": "https://localhost:8080/"
        },
        "id": "ZTR4bDRjoxep",
        "outputId": "5d2d2f59-b8c4-4fd0-a85a-9e5eaecb5eb8"
      },
      "execution_count": 31,
      "outputs": [
        {
          "output_type": "stream",
          "name": "stdout",
          "text": [
            "Parameter containing:\n",
            "tensor([[0.6981]], requires_grad=True)\n",
            "Parameter containing:\n",
            "tensor([-0.1619], requires_grad=True)\n"
          ]
        }
      ]
    },
    {
      "cell_type": "code",
      "source": [
        "class Model(nn.Module):\n",
        "\n",
        "    def __init__(self,in_features,out_features):\n",
        "        super().__init__()\n",
        "        self.linear = nn.Linear(in_features,out_features)\n",
        "\n",
        "    def forward(self,x):\n",
        "        y_pred = self.linear(x)\n",
        "        return y_pred"
      ],
      "metadata": {
        "id": "ifyjL5UNI72n"
      },
      "execution_count": 32,
      "outputs": []
    },
    {
      "cell_type": "code",
      "source": [
        "model = Model(1,1)\n",
        "\n",
        "for name,param in model.named_parameters():\n",
        "    print(name, '\\t', param.item())"
      ],
      "metadata": {
        "colab": {
          "base_uri": "https://localhost:8080/"
        },
        "id": "A6A3gvj4MNPj",
        "outputId": "7ad8a087-e42f-416b-f846-2dd4795aa9d6"
      },
      "execution_count": 33,
      "outputs": [
        {
          "output_type": "stream",
          "name": "stdout",
          "text": [
            "linear.weight \t 0.15809381008148193\n",
            "linear.bias \t -0.34273815155029297\n"
          ]
        }
      ]
    },
    {
      "cell_type": "code",
      "source": [
        "criterion = nn.MSELoss()\n",
        "optimizer = torch.optim.SGD(model.parameters(), lr= 0.001)"
      ],
      "metadata": {
        "id": "5aFjpXMupn3j"
      },
      "execution_count": 34,
      "outputs": []
    },
    {
      "cell_type": "code",
      "source": [
        "epochs = 50\n",
        "losses = list()\n",
        "\n",
        "for i in range(epochs):\n",
        "    i += 1\n",
        "    y_pred = model.forward(X)\n",
        "    loss = criterion(y_pred,y)\n",
        "    losses.append(loss)\n",
        "    print(f\"epoch {i}, loss: {loss.item()}, weight: {model.linear.weight.item()}, bias: {model.linear.bias.item()}\")\n",
        "    optimizer.zero_grad()\n",
        "    loss.backward()\n",
        "    optimizer.step()"
      ],
      "metadata": {
        "colab": {
          "base_uri": "https://localhost:8080/"
        },
        "id": "Ei6ZnDuNslbp",
        "outputId": "2d643c74-5dc0-48fa-bee3-7d51afdc8224"
      },
      "execution_count": 35,
      "outputs": [
        {
          "output_type": "stream",
          "name": "stdout",
          "text": [
            "epoch 1, loss: 3318.5400390625, weight: 0.15809381008148193, bias: -0.34273815155029297\n",
            "epoch 2, loss: 1722.201416015625, weight: 3.5244061946868896, bias: -0.2417154610157013\n",
            "epoch 3, loss: 898.0693969726562, weight: 1.1056079864501953, bias: -0.3125767409801483\n",
            "epoch 4, loss: 472.5983581542969, weight: 2.8435003757476807, bias: -0.259937584400177\n",
            "epoch 5, loss: 252.94261169433594, weight: 1.5947470664978027, bias: -0.2960362136363983\n",
            "epoch 6, loss: 139.54176330566406, weight: 2.4919443130493164, bias: -0.2683762311935425\n",
            "epoch 7, loss: 80.99644470214844, weight: 1.8472431898117065, bias: -0.28652864694595337\n",
            "epoch 8, loss: 50.77108383178711, weight: 2.3104195594787598, bias: -0.27176499366760254\n",
            "epoch 9, loss: 35.166351318359375, weight: 1.9775692224502563, bias: -0.28065285086631775\n",
            "epoch 10, loss: 27.109729766845703, weight: 2.2166762351989746, bias: -0.27254757285118103\n",
            "epoch 11, loss: 22.94988250732422, weight: 2.044822931289673, bias: -0.2766529619693756\n",
            "epoch 12, loss: 20.80181121826172, weight: 2.1682512760162354, bias: -0.27198562026023865\n",
            "epoch 13, loss: 19.692354202270508, weight: 2.079515218734741, bias: -0.27362245321273804\n",
            "epoch 14, loss: 19.119108200073242, weight: 2.1432223320007324, bias: -0.27073049545288086\n",
            "epoch 15, loss: 18.822677612304688, weight: 2.0973968505859375, bias: -0.27109336853027344\n",
            "epoch 16, loss: 18.669160842895508, weight: 2.130272388458252, bias: -0.26911842823028564\n",
            "epoch 17, loss: 18.58942413330078, weight: 2.106599807739258, bias: -0.2688240706920624\n",
            "epoch 18, loss: 18.54777717590332, weight: 2.1235578060150146, bias: -0.26732301712036133\n",
            "epoch 19, loss: 18.525794982910156, weight: 2.1113226413726807, bias: -0.26668980717658997\n",
            "epoch 20, loss: 18.513975143432617, weight: 2.120062828063965, bias: -0.2654338777065277\n",
            "epoch 21, loss: 18.507389068603516, weight: 2.113732099533081, bias: -0.2646262049674988\n",
            "epoch 22, loss: 18.503507614135742, weight: 2.118230104446411, bias: -0.2634972929954529\n",
            "epoch 23, loss: 18.50102996826172, weight: 2.1149473190307617, bias: -0.26260003447532654\n",
            "epoch 24, loss: 18.4992733001709, weight: 2.117255449295044, bias: -0.2615371346473694\n",
            "epoch 25, loss: 18.49789047241211, weight: 2.115546226501465, bias: -0.26059409976005554\n",
            "epoch 26, loss: 18.496700286865234, weight: 2.1167237758636475, bias: -0.2595657706260681\n",
            "epoch 27, loss: 18.495609283447266, weight: 2.1158270835876465, bias: -0.25859954953193665\n",
            "epoch 28, loss: 18.494569778442383, weight: 2.1164205074310303, bias: -0.25758951902389526\n",
            "epoch 29, loss: 18.493560791015625, weight: 2.115943670272827, bias: -0.25661179423332214\n",
            "epoch 30, loss: 18.49256134033203, weight: 2.1162357330322266, bias: -0.25561168789863586\n",
            "epoch 31, loss: 18.4915714263916, weight: 2.1159753799438477, bias: -0.2546284794807434\n",
            "epoch 32, loss: 18.49059295654297, weight: 2.1161117553710938, bias: -0.253633975982666\n",
            "epoch 33, loss: 18.489608764648438, weight: 2.1159632205963135, bias: -0.25264841318130493\n",
            "epoch 34, loss: 18.488628387451172, weight: 2.1160194873809814, bias: -0.25165724754333496\n",
            "epoch 35, loss: 18.487655639648438, weight: 2.1159284114837646, bias: -0.2506709396839142\n",
            "epoch 36, loss: 18.486679077148438, weight: 2.115943431854248, bias: -0.24968194961547852\n",
            "epoch 37, loss: 18.485700607299805, weight: 2.115882158279419, bias: -0.24869570136070251\n",
            "epoch 38, loss: 18.48472785949707, weight: 2.1158759593963623, bias: -0.2477083057165146\n",
            "epoch 39, loss: 18.48375701904297, weight: 2.115830183029175, bias: -0.24672256410121918\n",
            "epoch 40, loss: 18.4827823638916, weight: 2.1158125400543213, bias: -0.24573646485805511\n",
            "epoch 41, loss: 18.4818115234375, weight: 2.1157748699188232, bias: -0.244751438498497\n",
            "epoch 42, loss: 18.4808406829834, weight: 2.1157517433166504, bias: -0.24376645684242249\n",
            "epoch 43, loss: 18.47987174987793, weight: 2.115718126296997, bias: -0.24278226494789124\n",
            "epoch 44, loss: 18.478904724121094, weight: 2.115691900253296, bias: -0.24179832637310028\n",
            "epoch 45, loss: 18.477935791015625, weight: 2.1156606674194336, bias: -0.24081501364707947\n",
            "epoch 46, loss: 18.47696876525879, weight: 2.1156327724456787, bias: -0.2398320734500885\n",
            "epoch 47, loss: 18.476001739501953, weight: 2.115602731704712, bias: -0.2388496845960617\n",
            "epoch 48, loss: 18.47503662109375, weight: 2.115574359893799, bias: -0.23786772787570953\n",
            "epoch 49, loss: 18.474069595336914, weight: 2.115544557571411, bias: -0.23688627779483795\n",
            "epoch 50, loss: 18.47311019897461, weight: 2.11551570892334, bias: -0.23590527474880219\n"
          ]
        }
      ]
    },
    {
      "cell_type": "code",
      "source": [
        "for i in range(epochs):\n",
        "    losses[i]=losses[i].detach().numpy()"
      ],
      "metadata": {
        "id": "IOud_ThcxKyT"
      },
      "execution_count": 36,
      "outputs": []
    },
    {
      "cell_type": "code",
      "source": [
        "plt.plot(range(epochs), losses)\n",
        "plt.xlabel('epoch')\n",
        "plt.ylabel('loss')"
      ],
      "metadata": {
        "colab": {
          "base_uri": "https://localhost:8080/",
          "height": 466
        },
        "id": "n7h8bV1etTl7",
        "outputId": "4f87f9ca-c9ad-4d94-9a03-cfb5253dfe70"
      },
      "execution_count": 37,
      "outputs": [
        {
          "output_type": "execute_result",
          "data": {
            "text/plain": [
              "Text(0, 0.5, 'loss')"
            ]
          },
          "metadata": {},
          "execution_count": 37
        },
        {
          "output_type": "display_data",
          "data": {
            "text/plain": [
              "<Figure size 640x480 with 1 Axes>"
            ],
            "image/png": "[encoded data removed]"
          },
          "metadata": {}
        }
      ]
    },
    {
      "cell_type": "code",
      "source": [
        "current_weight = model.linear.weight.item()\n",
        "current_bias = model.linear.bias.item()\n",
        "predicted_y = current_weight*X + current_bias\n",
        "\n",
        "plt.scatter(X.numpy(), y.numpy())\n",
        "plt.plot(X.numpy(), predicted_y, 'r')"
      ],
      "metadata": {
        "colab": {
          "base_uri": "https://localhost:8080/",
          "height": 447
        },
        "id": "56ZnAJLlwoYr",
        "outputId": "ee8cd972-ce73-420e-bc1a-6356b898213d"
      },
      "execution_count": 38,
      "outputs": [
        {
          "output_type": "execute_result",
          "data": {
            "text/plain": [
              "[<matplotlib.lines.Line2D at 0x7857721c1240>]"
            ]
          },
          "metadata": {},
          "execution_count": 38
        },
        {
          "output_type": "display_data",
          "data": {
            "text/plain": [
              "<Figure size 640x480 with 1 Axes>"
            ],
            "image/png": "[encoded data removed]"
          },
          "metadata": {}
        }
      ]
    },
    {
      "cell_type": "markdown",
      "source": [
        "# Fully Connected NN"
      ],
      "metadata": {
        "id": "4Alk-NZYPTOV"
      }
    },
    {
      "cell_type": "code",
      "source": [
        "class Model(nn.Module):\n",
        "\n",
        "    def __init__(self,in_features=4,h1=8,h2=10,out_features=3):\n",
        "\n",
        "        super().__init__()\n",
        "        self.fc1 = nn.Linear(in_features,h1)\n",
        "        self.fc2 = nn.Linear(h1,h2)\n",
        "        self.out = nn.Linear(h2,out_features)\n",
        "\n",
        "\n",
        "    def forward(self,x):\n",
        "\n",
        "        x = F.relu(self.fc1(x))\n",
        "        x = F.relu(self.fc2(x))\n",
        "        x = self.out(x)\n",
        "\n",
        "        return x"
      ],
      "metadata": {
        "id": "75xmOlOAPPV4"
      },
      "execution_count": 39,
      "outputs": []
    },
    {
      "cell_type": "code",
      "source": [
        "model = Model()"
      ],
      "metadata": {
        "id": "OUbm1-vaUTav"
      },
      "execution_count": 40,
      "outputs": []
    },
    {
      "cell_type": "code",
      "source": [
        "df = pd.read_csv('iris.csv')"
      ],
      "metadata": {
        "id": "IvlE4NahQbPl"
      },
      "execution_count": 41,
      "outputs": []
    },
    {
      "cell_type": "code",
      "source": [
        "df.sample(3)"
      ],
      "metadata": {
        "colab": {
          "base_uri": "https://localhost:8080/",
          "height": 143
        },
        "id": "0XzaWYm3Q-NW",
        "outputId": "9afcb2ea-bb14-4dd7-c5d9-313230c4a976"
      },
      "execution_count": 42,
      "outputs": [
        {
          "output_type": "execute_result",
          "data": {
            "text/plain": [
              "    sepal length (cm)  sepal width (cm)  petal length (cm)  petal width (cm)  \\\n",
              "71                6.1               2.8                4.0               1.3   \n",
              "36                5.5               3.5                1.3               0.2   \n",
              "96                5.7               2.9                4.2               1.3   \n",
              "\n",
              "    target  \n",
              "71     1.0  \n",
              "36     0.0  \n",
              "96     1.0  "
            ],
            "text/html": [
              "\n",
              "  <div id=\"df-0c2c44f2-993e-42c2-95c3-e36de5bc93d2\" class=\"colab-df-container\">\n",
              "    <div>\n",
              "<style scoped>\n",
              "    .dataframe tbody tr th:only-of-type {\n",
              "        vertical-align: middle;\n",
              "    }\n",
              "\n",
              "    .dataframe tbody tr th {\n",
              "        vertical-align: top;\n",
              "    }\n",
              "\n",
              "    .dataframe thead th {\n",
              "        text-align: right;\n",
              "    }\n",
              "</style>\n",
              "<table border=\"1\" class=\"dataframe\">\n",
              "  <thead>\n",
              "    <tr style=\"text-align: right;\">\n",
              "      <th></th>\n",
              "      <th>sepal length (cm)</th>\n",
              "      <th>sepal width (cm)</th>\n",
              "      <th>petal length (cm)</th>\n",
              "      <th>petal width (cm)</th>\n",
              "      <th>target</th>\n",
              "    </tr>\n",
              "  </thead>\n",
              "  <tbody>\n",
              "    <tr>\n",
              "      <th>71</th>\n",
              "      <td>6.1</td>\n",
              "      <td>2.8</td>\n",
              "      <td>4.0</td>\n",
              "      <td>1.3</td>\n",
              "      <td>1.0</td>\n",
              "    </tr>\n",
              "    <tr>\n",
              "      <th>36</th>\n",
              "      <td>5.5</td>\n",
              "      <td>3.5</td>\n",
              "      <td>1.3</td>\n",
              "      <td>0.2</td>\n",
              "      <td>0.0</td>\n",
              "    </tr>\n",
              "    <tr>\n",
              "      <th>96</th>\n",
              "      <td>5.7</td>\n",
              "      <td>2.9</td>\n",
              "      <td>4.2</td>\n",
              "      <td>1.3</td>\n",
              "      <td>1.0</td>\n",
              "    </tr>\n",
              "  </tbody>\n",
              "</table>\n",
              "</div>\n",
              "    <div class=\"colab-df-buttons\">\n",
              "\n",
              "  <div class=\"colab-df-container\">\n",
              "    <button class=\"colab-df-convert\" onclick=\"convertToInteractive('df-0c2c44f2-993e-42c2-95c3-e36de5bc93d2')\"\n",
              "            title=\"Convert this dataframe to an interactive table.\"\n",
              "            style=\"display:none;\">\n",
              "\n",
              "  <svg xmlns=\"http://www.w3.org/2000/svg\" height=\"24px\" viewBox=\"0 -960 960 960\">\n",
              "    <path d=\"M120-120v-720h720v720H120Zm60-500h600v-160H180v160Zm220 220h160v-160H400v160Zm0 220h160v-160H400v160ZM180-400h160v-160H180v160Zm440 0h160v-160H620v160ZM180-180h160v-160H180v160Zm440 0h160v-160H620v160Z\"/>\n",
              "  </svg>\n",
              "    </button>\n",
              "\n",
              "  <style>\n",
              "    .colab-df-container {\n",
              "      display:flex;\n",
              "      gap: 12px;\n",
              "    }\n",
              "\n",
              "    .colab-df-convert {\n",
              "      background-color: #E8F0FE;\n",
              "      border: none;\n",
              "      border-radius: 50%;\n",
              "      cursor: pointer;\n",
              "      display: none;\n",
              "      fill: #1967D2;\n",
              "      height: 32px;\n",
              "      padding: 0 0 0 0;\n",
              "      width: 32px;\n",
              "    }\n",
              "\n",
              "    .colab-df-convert:hover {\n",
              "      background-color: #E2EBFA;\n",
              "      box-shadow: 0px 1px 2px rgba(60, 64, 67, 0.3), 0px 1px 3px 1px rgba(60, 64, 67, 0.15);\n",
              "      fill: #174EA6;\n",
              "    }\n",
              "\n",
              "    .colab-df-buttons div {\n",
              "      margin-bottom: 4px;\n",
              "    }\n",
              "\n",
              "    [theme=dark] .colab-df-convert {\n",
              "      background-color: #3B4455;\n",
              "      fill: #D2E3FC;\n",
              "    }\n",
              "\n",
              "    [theme=dark] .colab-df-convert:hover {\n",
              "      background-color: #434B5C;\n",
              "      box-shadow: 0px 1px 3px 1px rgba(0, 0, 0, 0.15);\n",
              "      filter: drop-shadow(0px 1px 2px rgba(0, 0, 0, 0.3));\n",
              "      fill: #FFFFFF;\n",
              "    }\n",
              "  </style>\n",
              "\n",
              "    <script>\n",
              "      const buttonEl =\n",
              "        document.querySelector('#df-0c2c44f2-993e-42c2-95c3-e36de5bc93d2 button.colab-df-convert');\n",
              "      buttonEl.style.display =\n",
              "        google.colab.kernel.accessAllowed ? 'block' : 'none';\n",
              "\n",
              "      async function convertToInteractive(key) {\n",
              "        const element = document.querySelector('#df-0c2c44f2-993e-42c2-95c3-e36de5bc93d2');\n",
              "        const dataTable =\n",
              "          await google.colab.kernel.invokeFunction('convertToInteractive',\n",
              "                                                    [key], {});\n",
              "        if (!dataTable) return;\n",
              "\n",
              "        const docLinkHtml = 'Like what you see? Visit the ' +\n",
              "          '<a target=\"_blank\" href=https://colab.research.google.com/notebooks/data_table.ipynb>data table notebook</a>'\n",
              "          + ' to learn more about interactive tables.';\n",
              "        element.innerHTML = '';\n",
              "        dataTable['output_type'] = 'display_data';\n",
              "        await google.colab.output.renderOutput(dataTable, element);\n",
              "        const docLink = document.createElement('div');\n",
              "        docLink.innerHTML = docLinkHtml;\n",
              "        element.appendChild(docLink);\n",
              "      }\n",
              "    </script>\n",
              "  </div>\n",
              "\n",
              "\n",
              "<div id=\"df-76094c31-760f-489b-8144-53f4192eb9ac\">\n",
              "  <button class=\"colab-df-quickchart\" onclick=\"quickchart('df-76094c31-760f-489b-8144-53f4192eb9ac')\"\n",
              "            title=\"Suggest charts\"\n",
              "            style=\"display:none;\">\n",
              "\n",
              "<svg xmlns=\"http://www.w3.org/2000/svg\" height=\"24px\"viewBox=\"0 0 24 24\"\n",
              "     width=\"24px\">\n",
              "    <g>\n",
              "        <path d=\"M19 3H5c-1.1 0-2 .9-2 2v14c0 1.1.9 2 2 2h14c1.1 0 2-.9 2-2V5c0-1.1-.9-2-2-2zM9 17H7v-7h2v7zm4 0h-2V7h2v10zm4 0h-2v-4h2v4z\"/>\n",
              "    </g>\n",
              "</svg>\n",
              "  </button>\n",
              "\n",
              "<style>\n",
              "  .colab-df-quickchart {\n",
              "      --bg-color: #E8F0FE;\n",
              "      --fill-color: #1967D2;\n",
              "      --hover-bg-color: #E2EBFA;\n",
              "      --hover-fill-color: #174EA6;\n",
              "      --disabled-fill-color: #AAA;\n",
              "      --disabled-bg-color: #DDD;\n",
              "  }\n",
              "\n",
              "  [theme=dark] .colab-df-quickchart {\n",
              "      --bg-color: #3B4455;\n",
              "      --fill-color: #D2E3FC;\n",
              "      --hover-bg-color: #434B5C;\n",
              "      --hover-fill-color: #FFFFFF;\n",
              "      --disabled-bg-color: #3B4455;\n",
              "      --disabled-fill-color: #666;\n",
              "  }\n",
              "\n",
              "  .colab-df-quickchart {\n",
              "    background-color: var(--bg-color);\n",
              "    border: none;\n",
              "    border-radius: 50%;\n",
              "    cursor: pointer;\n",
              "    display: none;\n",
              "    fill: var(--fill-color);\n",
              "    height: 32px;\n",
              "    padding: 0;\n",
              "    width: 32px;\n",
              "  }\n",
              "\n",
              "  .colab-df-quickchart:hover {\n",
              "    background-color: var(--hover-bg-color);\n",
              "    box-shadow: 0 1px 2px rgba(60, 64, 67, 0.3), 0 1px 3px 1px rgba(60, 64, 67, 0.15);\n",
              "    fill: var(--button-hover-fill-color);\n",
              "  }\n",
              "\n",
              "  .colab-df-quickchart-complete:disabled,\n",
              "  .colab-df-quickchart-complete:disabled:hover {\n",
              "    background-color: var(--disabled-bg-color);\n",
              "    fill: var(--disabled-fill-color);\n",
              "    box-shadow: none;\n",
              "  }\n",
              "\n",
              "  .colab-df-spinner {\n",
              "    border: 2px solid var(--fill-color);\n",
              "    border-color: transparent;\n",
              "    border-bottom-color: var(--fill-color);\n",
              "    animation:\n",
              "      spin 1s steps(1) infinite;\n",
              "  }\n",
              "\n",
              "  @keyframes spin {\n",
              "    0% {\n",
              "      border-color: transparent;\n",
              "      border-bottom-color: var(--fill-color);\n",
              "      border-left-color: var(--fill-color);\n",
              "    }\n",
              "    20% {\n",
              "      border-color: transparent;\n",
              "      border-left-color: var(--fill-color);\n",
              "      border-top-color: var(--fill-color);\n",
              "    }\n",
              "    30% {\n",
              "      border-color: transparent;\n",
              "      border-left-color: var(--fill-color);\n",
              "      border-top-color: var(--fill-color);\n",
              "      border-right-color: var(--fill-color);\n",
              "    }\n",
              "    40% {\n",
              "      border-color: transparent;\n",
              "      border-right-color: var(--fill-color);\n",
              "      border-top-color: var(--fill-color);\n",
              "    }\n",
              "    60% {\n",
              "      border-color: transparent;\n",
              "      border-right-color: var(--fill-color);\n",
              "    }\n",
              "    80% {\n",
              "      border-color: transparent;\n",
              "      border-right-color: var(--fill-color);\n",
              "      border-bottom-color: var(--fill-color);\n",
              "    }\n",
              "    90% {\n",
              "      border-color: transparent;\n",
              "      border-bottom-color: var(--fill-color);\n",
              "    }\n",
              "  }\n",
              "</style>\n",
              "\n",
              "  <script>\n",
              "    async function quickchart(key) {\n",
              "      const quickchartButtonEl =\n",
              "        document.querySelector('#' + key + ' button');\n",
              "      quickchartButtonEl.disabled = true;  // To prevent multiple clicks.\n",
              "      quickchartButtonEl.classList.add('colab-df-spinner');\n",
              "      try {\n",
              "        const charts = await google.colab.kernel.invokeFunction(\n",
              "            'suggestCharts', [key], {});\n",
              "      } catch (error) {\n",
              "        console.error('Error during call to suggestCharts:', error);\n",
              "      }\n",
              "      quickchartButtonEl.classList.remove('colab-df-spinner');\n",
              "      quickchartButtonEl.classList.add('colab-df-quickchart-complete');\n",
              "    }\n",
              "    (() => {\n",
              "      let quickchartButtonEl =\n",
              "        document.querySelector('#df-76094c31-760f-489b-8144-53f4192eb9ac button');\n",
              "      quickchartButtonEl.style.display =\n",
              "        google.colab.kernel.accessAllowed ? 'block' : 'none';\n",
              "    })();\n",
              "  </script>\n",
              "</div>\n",
              "    </div>\n",
              "  </div>\n"
            ]
          },
          "metadata": {},
          "execution_count": 42
        }
      ]
    },
    {
      "cell_type": "code",
      "source": [
        "X = df.drop('target',axis=1).values\n",
        "y = df['target'].values"
      ],
      "metadata": {
        "id": "YlTDVbM8RJ8v"
      },
      "execution_count": 43,
      "outputs": []
    },
    {
      "cell_type": "code",
      "source": [
        "X_train, X_test, y_train, y_test = train_test_split(X, y, test_size=0.2)\n",
        "X_train = torch.FloatTensor(X_train)\n",
        "X_test = torch.FloatTensor(X_test)\n",
        "\n",
        "# y_train = F.one_hot(torch.LongTensor(y_train))  # not needed with Cross Entropy Loss\n",
        "# y_test = F.one_hot(torch.LongTensor(y_test))\n",
        "\n",
        "y_train = torch.LongTensor(y_train)\n",
        "y_test = torch.LongTensor(y_test)"
      ],
      "metadata": {
        "id": "PisbA4GBRWZ4"
      },
      "execution_count": 44,
      "outputs": []
    },
    {
      "cell_type": "code",
      "source": [
        "trainloader = DataLoader(X_train, batch_size=60, shuffle=True)\n",
        "testloader = DataLoader(X_test, batch_size=60, shuffle=False)"
      ],
      "metadata": {
        "id": "pocP9rbhacVa"
      },
      "execution_count": 51,
      "outputs": []
    },
    {
      "cell_type": "code",
      "source": [
        "criterion = nn.CrossEntropyLoss()\n",
        "optimizer = torch.optim.Adam(model.parameters(), lr=0.01)"
      ],
      "metadata": {
        "id": "7KOVvUbYUQ2Z"
      },
      "execution_count": 52,
      "outputs": []
    },
    {
      "cell_type": "code",
      "source": [
        "epochs = 250\n",
        "losses = list()\n",
        "\n",
        "for i in range(epochs):\n",
        "    # Forward Propagation\n",
        "    y_pred = model.forward(X_train)\n",
        "\n",
        "    loss = criterion(y_pred, y_train)\n",
        "    losses.append(loss)\n",
        "\n",
        "    if i % 10 == 0:\n",
        "        print(f\"Epoch: {i} Loss: {loss}\")\n",
        "\n",
        "    # Back Propagation\n",
        "    optimizer.zero_grad()\n",
        "    loss.backward()\n",
        "    optimizer.step()"
      ],
      "metadata": {
        "colab": {
          "base_uri": "https://localhost:8080/"
        },
        "id": "ZsiUzgU3UmFq",
        "outputId": "10c95eb3-2499-46a3-ac92-5cd95b4a3483"
      },
      "execution_count": 53,
      "outputs": [
        {
          "output_type": "stream",
          "name": "stdout",
          "text": [
            "Epoch: 0 Loss: 0.0511196032166481\n",
            "Epoch: 10 Loss: 0.05148964747786522\n",
            "Epoch: 20 Loss: 0.05169159173965454\n",
            "Epoch: 30 Loss: 0.0504729263484478\n",
            "Epoch: 40 Loss: 0.050430793315172195\n",
            "Epoch: 50 Loss: 0.05030197277665138\n",
            "Epoch: 60 Loss: 0.05016238987445831\n",
            "Epoch: 70 Loss: 0.050041887909173965\n",
            "Epoch: 80 Loss: 0.04993065819144249\n",
            "Epoch: 90 Loss: 0.04981301352381706\n",
            "Epoch: 100 Loss: 0.04969725385308266\n",
            "Epoch: 110 Loss: 0.04958049952983856\n",
            "Epoch: 120 Loss: 0.049463845789432526\n",
            "Epoch: 130 Loss: 0.04934743791818619\n",
            "Epoch: 140 Loss: 0.04923142492771149\n",
            "Epoch: 150 Loss: 0.0491163395345211\n",
            "Epoch: 160 Loss: 0.04900229722261429\n",
            "Epoch: 170 Loss: 0.04888971894979477\n",
            "Epoch: 180 Loss: 0.04877891391515732\n",
            "Epoch: 190 Loss: 0.04867007955908775\n",
            "Epoch: 200 Loss: 0.048563484102487564\n",
            "Epoch: 210 Loss: 0.048459384590387344\n",
            "Epoch: 220 Loss: 0.04835795611143112\n",
            "Epoch: 230 Loss: 0.048259470611810684\n",
            "Epoch: 240 Loss: 0.04816397652029991\n"
          ]
        }
      ]
    },
    {
      "cell_type": "code",
      "source": [
        "for i in range(epochs):\n",
        "    losses[i]=losses[i].detach().numpy()"
      ],
      "metadata": {
        "id": "DOgGtBCQV_Wg"
      },
      "execution_count": 48,
      "outputs": []
    },
    {
      "cell_type": "code",
      "source": [
        "plt.plot(range(epochs), losses)\n",
        "plt.xlabel('Epoch')\n",
        "plt.ylabel('Loss')"
      ],
      "metadata": {
        "colab": {
          "base_uri": "https://localhost:8080/",
          "height": 470
        },
        "id": "oNzHkD9oVgkh",
        "outputId": "ffd88e4c-aad8-470b-aa36-0c16728108ad"
      },
      "execution_count": 49,
      "outputs": [
        {
          "output_type": "execute_result",
          "data": {
            "text/plain": [
              "Text(0, 0.5, 'Loss')"
            ]
          },
          "metadata": {},
          "execution_count": 49
        },
        {
          "output_type": "display_data",
          "data": {
            "text/plain": [
              "<Figure size 640x480 with 1 Axes>"
            ],
            "image/png": "[encoded data removed]"
          },
          "metadata": {}
        }
      ]
    },
    {
      "cell_type": "code",
      "source": [
        "correct = 0\n",
        "with torch.no_grad():\n",
        "    for idx,data in enumerate(X_test):\n",
        "        y_val = model.forward(data)\n",
        "        if y_val.argmax().item() == y_test[idx]:\n",
        "            correct += 1\n",
        "print(f'\\n{correct} out of {len(y_test)} = {100*correct/len(y_test):.2f}% correct')"
      ],
      "metadata": {
        "colab": {
          "base_uri": "https://localhost:8080/"
        },
        "id": "KkQh0NzPV1E9",
        "outputId": "3e4a1e42-db42-4d52-a455-0492dc294c8a"
      },
      "execution_count": 58,
      "outputs": [
        {
          "output_type": "stream",
          "name": "stdout",
          "text": [
            "\n",
            "30 out of 30 = 100.00% correct\n"
          ]
        }
      ]
    },
    {
      "cell_type": "code",
      "source": [
        "torch.save(model.state_dict(), 'Iris_Model.pt')"
      ],
      "metadata": {
        "id": "8jSpiWigbsI7"
      },
      "execution_count": 59,
      "outputs": []
    },
    {
      "cell_type": "code",
      "source": [
        "new_model = Model()\n",
        "new_model.load_state_dict(torch.load('Iris_Model.pt'))\n",
        "new_model.eval()"
      ],
      "metadata": {
        "colab": {
          "base_uri": "https://localhost:8080/"
        },
        "id": "6vlAoPiydTD5",
        "outputId": "8ed055da-ff29-433a-9f1a-a6ea1651105d"
      },
      "execution_count": 62,
      "outputs": [
        {
          "output_type": "execute_result",
          "data": {
            "text/plain": [
              "Model(\n",
              "  (fc1): Linear(in_features=4, out_features=8, bias=True)\n",
              "  (fc2): Linear(in_features=8, out_features=10, bias=True)\n",
              "  (out): Linear(in_features=10, out_features=3, bias=True)\n",
              ")"
            ]
          },
          "metadata": {},
          "execution_count": 62
        }
      ]
    },
    {
      "cell_type": "code",
      "source": [],
      "metadata": {
        "id": "hXZE03eMdTry"
      },
      "execution_count": null,
      "outputs": []
    }
  ]
}