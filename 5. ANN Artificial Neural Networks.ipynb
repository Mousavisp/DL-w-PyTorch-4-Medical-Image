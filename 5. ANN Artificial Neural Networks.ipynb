{
  "nbformat": 4,
  "nbformat_minor": 0,
  "metadata": {
    "colab": {
      "provenance": [],
      "authorship_tag": "ABX9TyOmpxRKmvdIMA2UzlYF0u0z",
      "include_colab_link": true
    },
    "kernelspec": {
      "name": "python3",
      "display_name": "Python 3"
    },
    "language_info": {
      "name": "python"
    }
  },
  "cells": [
    {
      "cell_type": "markdown",
      "metadata": {
        "id": "view-in-github",
        "colab_type": "text"
      },
      "source": [
        "<a href=\"https://colab.research.google.com/github/Mousavisp/DL-w-PyTorch-4-Medical-Image/blob/main/5.%20ANN%20Artificial%20Neural%20Networks.ipynb\" target=\"_parent\"><img src=\"https://colab.research.google.com/assets/colab-badge.svg\" alt=\"Open In Colab\"/></a>"
      ]
    },
    {
      "cell_type": "code",
      "execution_count": 100,
      "metadata": {
        "id": "YMVkTSouEH3z"
      },
      "outputs": [],
      "source": [
        " import torch\n",
        "\n",
        "import numpy as np\n",
        "import pandas as pd\n",
        "import matplotlib.pyplot as plt\n",
        "import seaborn as sns\n",
        "\n",
        "import torch.nn as nn\n",
        "import torch.nn.functional as F\n",
        "\n",
        "from sklearn.model_selection import train_test_split\n",
        "from torch.utils.data import Dataset, DataLoader\n",
        "\n",
        "import warnings\n",
        "warnings.filterwarnings(\"ignore\")\n",
        "\n",
        "import time"
      ]
    },
    {
      "cell_type": "markdown",
      "source": [
        "# PyTorch Gradients"
      ],
      "metadata": {
        "id": "YAuO-FPeHOaz"
      }
    },
    {
      "cell_type": "code",
      "source": [
        "x = torch.tensor(2.0, requires_grad=True)"
      ],
      "metadata": {
        "id": "fzob8pt_ETQM"
      },
      "execution_count": 101,
      "outputs": []
    },
    {
      "cell_type": "code",
      "source": [
        "y = 2*x**4 + x**3 + 3*x**2 + 5*x + 1\n",
        "print(y)\n",
        "type(y)"
      ],
      "metadata": {
        "colab": {
          "base_uri": "https://localhost:8080/"
        },
        "id": "OGXrQLDoEa_g",
        "outputId": "561b8ce9-7b11-492b-f735-891db7522037"
      },
      "execution_count": 102,
      "outputs": [
        {
          "output_type": "stream",
          "name": "stdout",
          "text": [
            "tensor(63., grad_fn=<AddBackward0>)\n"
          ]
        },
        {
          "output_type": "execute_result",
          "data": {
            "text/plain": [
              "torch.Tensor"
            ]
          },
          "metadata": {},
          "execution_count": 102
        }
      ]
    },
    {
      "cell_type": "markdown",
      "source": [
        "backprop"
      ],
      "metadata": {
        "id": "pYO4vGxWE160"
      }
    },
    {
      "cell_type": "code",
      "source": [
        "y.backward()"
      ],
      "metadata": {
        "id": "4ogEZeywEkOx"
      },
      "execution_count": 103,
      "outputs": []
    },
    {
      "cell_type": "markdown",
      "source": [
        "slope of x=2, f(x)=63 is x.grad\n",
        "\n",
        "(putting x=2 in f'(x) gives x.grad)"
      ],
      "metadata": {
        "id": "DqbS2ma3E4hl"
      }
    },
    {
      "cell_type": "code",
      "source": [
        "x.grad"
      ],
      "metadata": {
        "colab": {
          "base_uri": "https://localhost:8080/"
        },
        "id": "S_GmdQrDEss0",
        "outputId": "6fc362e6-815e-43d7-d9f5-e207e771c927"
      },
      "execution_count": 104,
      "outputs": [
        {
          "output_type": "execute_result",
          "data": {
            "text/plain": [
              "tensor(93.)"
            ]
          },
          "metadata": {},
          "execution_count": 104
        }
      ]
    },
    {
      "cell_type": "code",
      "source": [
        "x = torch.tensor([[1.,2.,3.],[3.,2.,1.]],requires_grad=True)"
      ],
      "metadata": {
        "id": "ylTsrpGCEvhx"
      },
      "execution_count": 105,
      "outputs": []
    },
    {
      "cell_type": "code",
      "source": [
        "y = 3*x + 2\n",
        "z = 2*y**2\n",
        "\n",
        "print(y)\n",
        "print(z)"
      ],
      "metadata": {
        "colab": {
          "base_uri": "https://localhost:8080/"
        },
        "id": "FC1ONKfmFVMA",
        "outputId": "97b214b3-11f7-4e56-a40f-691f15551964"
      },
      "execution_count": 106,
      "outputs": [
        {
          "output_type": "stream",
          "name": "stdout",
          "text": [
            "tensor([[ 5.,  8., 11.],\n",
            "        [11.,  8.,  5.]], grad_fn=<AddBackward0>)\n",
            "tensor([[ 50., 128., 242.],\n",
            "        [242., 128.,  50.]], grad_fn=<MulBackward0>)\n"
          ]
        }
      ]
    },
    {
      "cell_type": "code",
      "source": [
        "out = z.mean()\n",
        "print(out)"
      ],
      "metadata": {
        "colab": {
          "base_uri": "https://localhost:8080/"
        },
        "id": "KKdYi2-YFk1G",
        "outputId": "787bb8ea-feaf-4483-b543-7d60a90e5091"
      },
      "execution_count": 107,
      "outputs": [
        {
          "output_type": "stream",
          "name": "stdout",
          "text": [
            "tensor(140., grad_fn=<MeanBackward0>)\n"
          ]
        }
      ]
    },
    {
      "cell_type": "markdown",
      "source": [
        "performing back-propagation to find the gradient of x with respect to $out$"
      ],
      "metadata": {
        "id": "L02f6alkGOVM"
      }
    },
    {
      "cell_type": "code",
      "source": [
        "out.backward()"
      ],
      "metadata": {
        "id": "t9bxsYvEFyTu"
      },
      "execution_count": 108,
      "outputs": []
    },
    {
      "cell_type": "markdown",
      "source": [
        "solving the derivative of $z$ with the **chain rule**: $f(g(x)) = f'(g(x))g'(x)$"
      ],
      "metadata": {
        "id": "n0tpn3DHGknP"
      }
    },
    {
      "cell_type": "code",
      "source": [
        "x.grad"
      ],
      "metadata": {
        "colab": {
          "base_uri": "https://localhost:8080/"
        },
        "id": "uHBd8KyUFzzK",
        "outputId": "840a6db1-ca51-484e-efe6-ebe66e39b81c"
      },
      "execution_count": 109,
      "outputs": [
        {
          "output_type": "execute_result",
          "data": {
            "text/plain": [
              "tensor([[10., 16., 22.],\n",
              "        [22., 16., 10.]])"
            ]
          },
          "metadata": {},
          "execution_count": 109
        }
      ]
    },
    {
      "cell_type": "markdown",
      "source": [
        "# Linear Model"
      ],
      "metadata": {
        "id": "L0cTIK3FHTVA"
      }
    },
    {
      "cell_type": "code",
      "source": [
        "X = torch.linspace(1,50,50).reshape(-1,1)\n",
        "e = torch.randint(-7,8, X.shape, dtype=torch.float)\n",
        "y = 2*X + 3 + e"
      ],
      "metadata": {
        "id": "5M048J6iF1o-"
      },
      "execution_count": 110,
      "outputs": []
    },
    {
      "cell_type": "markdown",
      "source": [
        "We can't plot a torch datatype, so we need to change it to numpy"
      ],
      "metadata": {
        "id": "dXxt8weZIvAi"
      }
    },
    {
      "cell_type": "code",
      "source": [
        "plt.scatter(X.numpy(), y.numpy());"
      ],
      "metadata": {
        "colab": {
          "base_uri": "https://localhost:8080/",
          "height": 0
        },
        "id": "49nbJu2rIjKK",
        "outputId": "5932cab1-4d93-4278-b132-9a28f25dbfff"
      },
      "execution_count": 111,
      "outputs": [
        {
          "output_type": "display_data",
          "data": {
            "text/plain": [
              "<Figure size 640x480 with 1 Axes>"
            ],
            "image/png": "[encoded data removed]"
          },
          "metadata": {}
        }
      ]
    },
    {
      "cell_type": "code",
      "source": [
        "model = nn.Linear(in_features=1, out_features=1)\n",
        "\n",
        "print(model.weight)\n",
        "print(model.bias)"
      ],
      "metadata": {
        "colab": {
          "base_uri": "https://localhost:8080/"
        },
        "id": "ZTR4bDRjoxep",
        "outputId": "420589d9-8fe2-4d6e-bfdb-db3cb90669e9"
      },
      "execution_count": 112,
      "outputs": [
        {
          "output_type": "stream",
          "name": "stdout",
          "text": [
            "Parameter containing:\n",
            "tensor([[0.6630]], requires_grad=True)\n",
            "Parameter containing:\n",
            "tensor([0.8737], requires_grad=True)\n"
          ]
        }
      ]
    },
    {
      "cell_type": "code",
      "source": [
        "class Model(nn.Module):\n",
        "\n",
        "    def __init__(self,in_features,out_features):\n",
        "        super().__init__()\n",
        "        self.linear = nn.Linear(in_features,out_features)\n",
        "\n",
        "    def forward(self,x):\n",
        "        y_pred = self.linear(x)\n",
        "        return y_pred"
      ],
      "metadata": {
        "id": "ifyjL5UNI72n"
      },
      "execution_count": 113,
      "outputs": []
    },
    {
      "cell_type": "code",
      "source": [
        "model = Model(1,1)\n",
        "\n",
        "for name,param in model.named_parameters():\n",
        "    print(name, '\\t', param.item())"
      ],
      "metadata": {
        "colab": {
          "base_uri": "https://localhost:8080/"
        },
        "id": "A6A3gvj4MNPj",
        "outputId": "8a2e371c-a78e-4c8a-eced-138690de39a6"
      },
      "execution_count": 114,
      "outputs": [
        {
          "output_type": "stream",
          "name": "stdout",
          "text": [
            "linear.weight \t 0.15074050426483154\n",
            "linear.bias \t 0.5460145473480225\n"
          ]
        }
      ]
    },
    {
      "cell_type": "code",
      "source": [
        "criterion = nn.MSELoss()\n",
        "optimizer = torch.optim.SGD(model.parameters(), lr= 0.001)"
      ],
      "metadata": {
        "id": "5aFjpXMupn3j"
      },
      "execution_count": 115,
      "outputs": []
    },
    {
      "cell_type": "code",
      "source": [
        "epochs = 50\n",
        "losses = list()\n",
        "\n",
        "for i in range(epochs):\n",
        "    i += 1\n",
        "    y_pred = model.forward(X)\n",
        "    loss = criterion(y_pred,y)\n",
        "    losses.append(loss)\n",
        "    print(f\"epoch {i}, loss: {loss.item()}, weight: {model.linear.weight.item()}, bias: {model.linear.bias.item()}\")\n",
        "    optimizer.zero_grad()\n",
        "    loss.backward()\n",
        "    optimizer.step()"
      ],
      "metadata": {
        "colab": {
          "base_uri": "https://localhost:8080/"
        },
        "id": "Ei6ZnDuNslbp",
        "outputId": "bbb70ab7-358a-4497-cb58-5cb6146bcb5b"
      },
      "execution_count": 116,
      "outputs": [
        {
          "output_type": "stream",
          "name": "stdout",
          "text": [
            "epoch 1, loss: 3205.1376953125, weight: 0.15074050426483154, bias: 0.5460145473480225\n",
            "epoch 2, loss: 1663.293701171875, weight: 3.4591119289398193, bias: 0.6447547674179077\n",
            "epoch 3, loss: 867.2957763671875, weight: 1.0819741487503052, bias: 0.5745705366134644\n",
            "epoch 4, loss: 456.3501281738281, weight: 2.789961338043213, bias: 0.6257607340812683\n",
            "epoch 5, loss: 244.19375610351562, weight: 1.5627237558364868, bias: 0.5897411704063416\n",
            "epoch 6, loss: 134.664794921875, weight: 2.4444901943206787, bias: 0.6163827776908875\n",
            "epoch 7, loss: 78.11886596679688, weight: 1.810904860496521, bias: 0.5980010032653809\n",
            "epoch 8, loss: 48.926109313964844, weight: 2.2661232948303223, bias: 0.6119688749313354\n",
            "epoch 9, loss: 33.85481262207031, weight: 1.9390192031860352, bias: 0.6026926636695862\n",
            "epoch 10, loss: 26.073945999145508, weight: 2.1740260124206543, bias: 0.6101173162460327\n",
            "epoch 11, loss: 22.056852340698242, weight: 2.0051474571228027, bias: 0.6055417656898499\n",
            "epoch 12, loss: 19.982881546020508, weight: 2.1264665126800537, bias: 0.6095881462097168\n",
            "epoch 13, loss: 18.912080764770508, weight: 2.0392744541168213, bias: 0.6074391603469849\n",
            "epoch 14, loss: 18.359163284301758, weight: 2.101900815963745, bias: 0.6097412705421448\n",
            "epoch 15, loss: 18.073631286621094, weight: 2.056880235671997, bias: 0.6088448762893677\n",
            "epoch 16, loss: 17.926111221313477, weight: 2.089205741882324, bias: 0.6102463006973267\n",
            "epoch 17, loss: 17.849864959716797, weight: 2.0659570693969727, bias: 0.6099963188171387\n",
            "epoch 18, loss: 17.810407638549805, weight: 2.08263897895813, bias: 0.6109325289726257\n",
            "epoch 19, loss: 17.789945602416992, weight: 2.0706303119659424, bias: 0.6110160946846008\n",
            "epoch 20, loss: 17.779285430908203, weight: 2.0792362689971924, bias: 0.6117119193077087\n",
            "epoch 21, loss: 17.77368927001953, weight: 2.0730302333831787, bias: 0.6119674444198608\n",
            "epoch 22, loss: 17.770709991455078, weight: 2.0774669647216797, bias: 0.6125389933586121\n",
            "epoch 23, loss: 17.769075393676758, weight: 2.074256658554077, bias: 0.6128830909729004\n",
            "epoch 24, loss: 17.76813316345215, weight: 2.076540946960449, bias: 0.6133902072906494\n",
            "epoch 25, loss: 17.767562866210938, weight: 2.0748772621154785, bias: 0.6137798428535461\n",
            "epoch 26, loss: 17.767175674438477, weight: 2.076050281524658, bias: 0.6142535209655762\n",
            "epoch 27, loss: 17.766878128051758, weight: 2.0751850605010986, bias: 0.6146664619445801\n",
            "epoch 28, loss: 17.766633987426758, weight: 2.075784206390381, bias: 0.6151226758956909\n",
            "epoch 29, loss: 17.76641273498535, weight: 2.075331449508667, bias: 0.6155474185943604\n",
            "epoch 30, loss: 17.766212463378906, weight: 2.075634479522705, bias: 0.615994393825531\n",
            "epoch 31, loss: 17.766010284423828, weight: 2.07539439201355, bias: 0.6164250373840332\n",
            "epoch 32, loss: 17.76581573486328, weight: 2.075544595718384, bias: 0.6168670654296875\n",
            "epoch 33, loss: 17.765621185302734, weight: 2.0754141807556152, bias: 0.6173005700111389\n",
            "epoch 34, loss: 17.76543426513672, weight: 2.0754857063293457, bias: 0.6177398562431335\n",
            "epoch 35, loss: 17.765241622924805, weight: 2.0754120349884033, bias: 0.6181746125221252\n",
            "epoch 36, loss: 17.765047073364258, weight: 2.0754427909851074, bias: 0.6186122298240662\n",
            "epoch 37, loss: 17.764854431152344, weight: 2.0753982067108154, bias: 0.6190474033355713\n",
            "epoch 38, loss: 17.764665603637695, weight: 2.0754079818725586, bias: 0.619484007358551\n",
            "epoch 39, loss: 17.764482498168945, weight: 2.075378894805908, bias: 0.6199192404747009\n",
            "epoch 40, loss: 17.764286041259766, weight: 2.0753774642944336, bias: 0.6203550696372986\n",
            "epoch 41, loss: 17.764097213745117, weight: 2.0753562450408936, bias: 0.6207901239395142\n",
            "epoch 42, loss: 17.76390838623047, weight: 2.0753493309020996, bias: 0.6212253570556641\n",
            "epoch 43, loss: 17.763713836669922, weight: 2.0753321647644043, bias: 0.6216601133346558\n",
            "epoch 44, loss: 17.763534545898438, weight: 2.075322151184082, bias: 0.6220948696136475\n",
            "epoch 45, loss: 17.763341903686523, weight: 2.0753073692321777, bias: 0.6225292682647705\n",
            "epoch 46, loss: 17.763153076171875, weight: 2.0752956867218018, bias: 0.622963547706604\n",
            "epoch 47, loss: 17.762962341308594, weight: 2.075281858444214, bias: 0.6233975291252136\n",
            "epoch 48, loss: 17.76277732849121, weight: 2.0752696990966797, bias: 0.6238313317298889\n",
            "epoch 49, loss: 17.762588500976562, weight: 2.075256109237671, bias: 0.6242648959159851\n",
            "epoch 50, loss: 17.76239585876465, weight: 2.0752437114715576, bias: 0.624698281288147\n"
          ]
        }
      ]
    },
    {
      "cell_type": "code",
      "source": [
        "for i in range(epochs):\n",
        "    losses[i]=losses[i].detach().numpy()"
      ],
      "metadata": {
        "id": "IOud_ThcxKyT"
      },
      "execution_count": 117,
      "outputs": []
    },
    {
      "cell_type": "code",
      "source": [
        "plt.figure(figsize=(12,6))\n",
        "plt.plot(range(epochs), losses)\n",
        "plt.xlabel('epoch')\n",
        "plt.ylabel('loss');"
      ],
      "metadata": {
        "colab": {
          "base_uri": "https://localhost:8080/",
          "height": 0
        },
        "id": "n7h8bV1etTl7",
        "outputId": "d8a2fed3-a660-41f5-e33e-c13f01193f99"
      },
      "execution_count": 118,
      "outputs": [
        {
          "output_type": "display_data",
          "data": {
            "text/plain": [
              "<Figure size 1200x600 with 1 Axes>"
            ],
            "image/png": "[encoded data removed]"
          },
          "metadata": {}
        }
      ]
    },
    {
      "cell_type": "code",
      "source": [
        "current_weight = model.linear.weight.item()\n",
        "current_bias = model.linear.bias.item()\n",
        "predicted_y = current_weight*X + current_bias\n",
        "\n",
        "plt.scatter(X.numpy(), y.numpy())\n",
        "plt.plot(X.numpy(), predicted_y, 'r');"
      ],
      "metadata": {
        "colab": {
          "base_uri": "https://localhost:8080/",
          "height": 0
        },
        "id": "56ZnAJLlwoYr",
        "outputId": "201166de-e2ee-4797-c740-273c94083418"
      },
      "execution_count": 119,
      "outputs": [
        {
          "output_type": "display_data",
          "data": {
            "text/plain": [
              "<Figure size 640x480 with 1 Axes>"
            ],
            "image/png": "[encoded data removed]"
          },
          "metadata": {}
        }
      ]
    },
    {
      "cell_type": "markdown",
      "source": [
        "# Fully Connected NN"
      ],
      "metadata": {
        "id": "4Alk-NZYPTOV"
      }
    },
    {
      "cell_type": "code",
      "source": [
        "class Model(nn.Module):\n",
        "\n",
        "    def __init__(self,in_features=4,h1=8,h2=10,out_features=3):\n",
        "\n",
        "        super().__init__()\n",
        "        self.fc1 = nn.Linear(in_features,h1)\n",
        "        self.fc2 = nn.Linear(h1,h2)\n",
        "        self.out = nn.Linear(h2,out_features)\n",
        "\n",
        "\n",
        "    def forward(self,x):\n",
        "\n",
        "        x = F.relu(self.fc1(x))\n",
        "        x = F.relu(self.fc2(x))\n",
        "        x = self.out(x)\n",
        "\n",
        "        return x"
      ],
      "metadata": {
        "id": "75xmOlOAPPV4"
      },
      "execution_count": 120,
      "outputs": []
    },
    {
      "cell_type": "code",
      "source": [
        "model = Model()"
      ],
      "metadata": {
        "id": "OUbm1-vaUTav"
      },
      "execution_count": 121,
      "outputs": []
    },
    {
      "cell_type": "code",
      "source": [
        "df = pd.read_csv('iris.csv')"
      ],
      "metadata": {
        "id": "IvlE4NahQbPl"
      },
      "execution_count": 122,
      "outputs": []
    },
    {
      "cell_type": "code",
      "source": [
        "df.sample(3)"
      ],
      "metadata": {
        "colab": {
          "base_uri": "https://localhost:8080/",
          "height": 143
        },
        "id": "0XzaWYm3Q-NW",
        "outputId": "a6631d55-afe8-4413-f772-5470e4dce3f2"
      },
      "execution_count": 123,
      "outputs": [
        {
          "output_type": "execute_result",
          "data": {
            "text/plain": [
              "     sepal length (cm)  sepal width (cm)  petal length (cm)  petal width (cm)  \\\n",
              "135                7.7               3.0                6.1               2.3   \n",
              "23                 5.1               3.3                1.7               0.5   \n",
              "109                7.2               3.6                6.1               2.5   \n",
              "\n",
              "     target  \n",
              "135     2.0  \n",
              "23      0.0  \n",
              "109     2.0  "
            ],
            "text/html": [
              "\n",
              "  <div id=\"df-b2c18526-8c92-4d51-882e-ef16825b8c1e\" class=\"colab-df-container\">\n",
              "    <div>\n",
              "<style scoped>\n",
              "    .dataframe tbody tr th:only-of-type {\n",
              "        vertical-align: middle;\n",
              "    }\n",
              "\n",
              "    .dataframe tbody tr th {\n",
              "        vertical-align: top;\n",
              "    }\n",
              "\n",
              "    .dataframe thead th {\n",
              "        text-align: right;\n",
              "    }\n",
              "</style>\n",
              "<table border=\"1\" class=\"dataframe\">\n",
              "  <thead>\n",
              "    <tr style=\"text-align: right;\">\n",
              "      <th></th>\n",
              "      <th>sepal length (cm)</th>\n",
              "      <th>sepal width (cm)</th>\n",
              "      <th>petal length (cm)</th>\n",
              "      <th>petal width (cm)</th>\n",
              "      <th>target</th>\n",
              "    </tr>\n",
              "  </thead>\n",
              "  <tbody>\n",
              "    <tr>\n",
              "      <th>135</th>\n",
              "      <td>7.7</td>\n",
              "      <td>3.0</td>\n",
              "      <td>6.1</td>\n",
              "      <td>2.3</td>\n",
              "      <td>2.0</td>\n",
              "    </tr>\n",
              "    <tr>\n",
              "      <th>23</th>\n",
              "      <td>5.1</td>\n",
              "      <td>3.3</td>\n",
              "      <td>1.7</td>\n",
              "      <td>0.5</td>\n",
              "      <td>0.0</td>\n",
              "    </tr>\n",
              "    <tr>\n",
              "      <th>109</th>\n",
              "      <td>7.2</td>\n",
              "      <td>3.6</td>\n",
              "      <td>6.1</td>\n",
              "      <td>2.5</td>\n",
              "      <td>2.0</td>\n",
              "    </tr>\n",
              "  </tbody>\n",
              "</table>\n",
              "</div>\n",
              "    <div class=\"colab-df-buttons\">\n",
              "\n",
              "  <div class=\"colab-df-container\">\n",
              "    <button class=\"colab-df-convert\" onclick=\"convertToInteractive('df-b2c18526-8c92-4d51-882e-ef16825b8c1e')\"\n",
              "            title=\"Convert this dataframe to an interactive table.\"\n",
              "            style=\"display:none;\">\n",
              "\n",
              "  <svg xmlns=\"http://www.w3.org/2000/svg\" height=\"24px\" viewBox=\"0 -960 960 960\">\n",
              "    <path d=\"M120-120v-720h720v720H120Zm60-500h600v-160H180v160Zm220 220h160v-160H400v160Zm0 220h160v-160H400v160ZM180-400h160v-160H180v160Zm440 0h160v-160H620v160ZM180-180h160v-160H180v160Zm440 0h160v-160H620v160Z\"/>\n",
              "  </svg>\n",
              "    </button>\n",
              "\n",
              "  <style>\n",
              "    .colab-df-container {\n",
              "      display:flex;\n",
              "      gap: 12px;\n",
              "    }\n",
              "\n",
              "    .colab-df-convert {\n",
              "      background-color: #E8F0FE;\n",
              "      border: none;\n",
              "      border-radius: 50%;\n",
              "      cursor: pointer;\n",
              "      display: none;\n",
              "      fill: #1967D2;\n",
              "      height: 32px;\n",
              "      padding: 0 0 0 0;\n",
              "      width: 32px;\n",
              "    }\n",
              "\n",
              "    .colab-df-convert:hover {\n",
              "      background-color: #E2EBFA;\n",
              "      box-shadow: 0px 1px 2px rgba(60, 64, 67, 0.3), 0px 1px 3px 1px rgba(60, 64, 67, 0.15);\n",
              "      fill: #174EA6;\n",
              "    }\n",
              "\n",
              "    .colab-df-buttons div {\n",
              "      margin-bottom: 4px;\n",
              "    }\n",
              "\n",
              "    [theme=dark] .colab-df-convert {\n",
              "      background-color: #3B4455;\n",
              "      fill: #D2E3FC;\n",
              "    }\n",
              "\n",
              "    [theme=dark] .colab-df-convert:hover {\n",
              "      background-color: #434B5C;\n",
              "      box-shadow: 0px 1px 3px 1px rgba(0, 0, 0, 0.15);\n",
              "      filter: drop-shadow(0px 1px 2px rgba(0, 0, 0, 0.3));\n",
              "      fill: #FFFFFF;\n",
              "    }\n",
              "  </style>\n",
              "\n",
              "    <script>\n",
              "      const buttonEl =\n",
              "        document.querySelector('#df-b2c18526-8c92-4d51-882e-ef16825b8c1e button.colab-df-convert');\n",
              "      buttonEl.style.display =\n",
              "        google.colab.kernel.accessAllowed ? 'block' : 'none';\n",
              "\n",
              "      async function convertToInteractive(key) {\n",
              "        const element = document.querySelector('#df-b2c18526-8c92-4d51-882e-ef16825b8c1e');\n",
              "        const dataTable =\n",
              "          await google.colab.kernel.invokeFunction('convertToInteractive',\n",
              "                                                    [key], {});\n",
              "        if (!dataTable) return;\n",
              "\n",
              "        const docLinkHtml = 'Like what you see? Visit the ' +\n",
              "          '<a target=\"_blank\" href=https://colab.research.google.com/notebooks/data_table.ipynb>data table notebook</a>'\n",
              "          + ' to learn more about interactive tables.';\n",
              "        element.innerHTML = '';\n",
              "        dataTable['output_type'] = 'display_data';\n",
              "        await google.colab.output.renderOutput(dataTable, element);\n",
              "        const docLink = document.createElement('div');\n",
              "        docLink.innerHTML = docLinkHtml;\n",
              "        element.appendChild(docLink);\n",
              "      }\n",
              "    </script>\n",
              "  </div>\n",
              "\n",
              "\n",
              "<div id=\"df-dd2cdbca-4ec5-489f-afc2-5c5dfa85d532\">\n",
              "  <button class=\"colab-df-quickchart\" onclick=\"quickchart('df-dd2cdbca-4ec5-489f-afc2-5c5dfa85d532')\"\n",
              "            title=\"Suggest charts\"\n",
              "            style=\"display:none;\">\n",
              "\n",
              "<svg xmlns=\"http://www.w3.org/2000/svg\" height=\"24px\"viewBox=\"0 0 24 24\"\n",
              "     width=\"24px\">\n",
              "    <g>\n",
              "        <path d=\"M19 3H5c-1.1 0-2 .9-2 2v14c0 1.1.9 2 2 2h14c1.1 0 2-.9 2-2V5c0-1.1-.9-2-2-2zM9 17H7v-7h2v7zm4 0h-2V7h2v10zm4 0h-2v-4h2v4z\"/>\n",
              "    </g>\n",
              "</svg>\n",
              "  </button>\n",
              "\n",
              "<style>\n",
              "  .colab-df-quickchart {\n",
              "      --bg-color: #E8F0FE;\n",
              "      --fill-color: #1967D2;\n",
              "      --hover-bg-color: #E2EBFA;\n",
              "      --hover-fill-color: #174EA6;\n",
              "      --disabled-fill-color: #AAA;\n",
              "      --disabled-bg-color: #DDD;\n",
              "  }\n",
              "\n",
              "  [theme=dark] .colab-df-quickchart {\n",
              "      --bg-color: #3B4455;\n",
              "      --fill-color: #D2E3FC;\n",
              "      --hover-bg-color: #434B5C;\n",
              "      --hover-fill-color: #FFFFFF;\n",
              "      --disabled-bg-color: #3B4455;\n",
              "      --disabled-fill-color: #666;\n",
              "  }\n",
              "\n",
              "  .colab-df-quickchart {\n",
              "    background-color: var(--bg-color);\n",
              "    border: none;\n",
              "    border-radius: 50%;\n",
              "    cursor: pointer;\n",
              "    display: none;\n",
              "    fill: var(--fill-color);\n",
              "    height: 32px;\n",
              "    padding: 0;\n",
              "    width: 32px;\n",
              "  }\n",
              "\n",
              "  .colab-df-quickchart:hover {\n",
              "    background-color: var(--hover-bg-color);\n",
              "    box-shadow: 0 1px 2px rgba(60, 64, 67, 0.3), 0 1px 3px 1px rgba(60, 64, 67, 0.15);\n",
              "    fill: var(--button-hover-fill-color);\n",
              "  }\n",
              "\n",
              "  .colab-df-quickchart-complete:disabled,\n",
              "  .colab-df-quickchart-complete:disabled:hover {\n",
              "    background-color: var(--disabled-bg-color);\n",
              "    fill: var(--disabled-fill-color);\n",
              "    box-shadow: none;\n",
              "  }\n",
              "\n",
              "  .colab-df-spinner {\n",
              "    border: 2px solid var(--fill-color);\n",
              "    border-color: transparent;\n",
              "    border-bottom-color: var(--fill-color);\n",
              "    animation:\n",
              "      spin 1s steps(1) infinite;\n",
              "  }\n",
              "\n",
              "  @keyframes spin {\n",
              "    0% {\n",
              "      border-color: transparent;\n",
              "      border-bottom-color: var(--fill-color);\n",
              "      border-left-color: var(--fill-color);\n",
              "    }\n",
              "    20% {\n",
              "      border-color: transparent;\n",
              "      border-left-color: var(--fill-color);\n",
              "      border-top-color: var(--fill-color);\n",
              "    }\n",
              "    30% {\n",
              "      border-color: transparent;\n",
              "      border-left-color: var(--fill-color);\n",
              "      border-top-color: var(--fill-color);\n",
              "      border-right-color: var(--fill-color);\n",
              "    }\n",
              "    40% {\n",
              "      border-color: transparent;\n",
              "      border-right-color: var(--fill-color);\n",
              "      border-top-color: var(--fill-color);\n",
              "    }\n",
              "    60% {\n",
              "      border-color: transparent;\n",
              "      border-right-color: var(--fill-color);\n",
              "    }\n",
              "    80% {\n",
              "      border-color: transparent;\n",
              "      border-right-color: var(--fill-color);\n",
              "      border-bottom-color: var(--fill-color);\n",
              "    }\n",
              "    90% {\n",
              "      border-color: transparent;\n",
              "      border-bottom-color: var(--fill-color);\n",
              "    }\n",
              "  }\n",
              "</style>\n",
              "\n",
              "  <script>\n",
              "    async function quickchart(key) {\n",
              "      const quickchartButtonEl =\n",
              "        document.querySelector('#' + key + ' button');\n",
              "      quickchartButtonEl.disabled = true;  // To prevent multiple clicks.\n",
              "      quickchartButtonEl.classList.add('colab-df-spinner');\n",
              "      try {\n",
              "        const charts = await google.colab.kernel.invokeFunction(\n",
              "            'suggestCharts', [key], {});\n",
              "      } catch (error) {\n",
              "        console.error('Error during call to suggestCharts:', error);\n",
              "      }\n",
              "      quickchartButtonEl.classList.remove('colab-df-spinner');\n",
              "      quickchartButtonEl.classList.add('colab-df-quickchart-complete');\n",
              "    }\n",
              "    (() => {\n",
              "      let quickchartButtonEl =\n",
              "        document.querySelector('#df-dd2cdbca-4ec5-489f-afc2-5c5dfa85d532 button');\n",
              "      quickchartButtonEl.style.display =\n",
              "        google.colab.kernel.accessAllowed ? 'block' : 'none';\n",
              "    })();\n",
              "  </script>\n",
              "</div>\n",
              "    </div>\n",
              "  </div>\n"
            ]
          },
          "metadata": {},
          "execution_count": 123
        }
      ]
    },
    {
      "cell_type": "code",
      "source": [
        "X = df.drop('target',axis=1).values\n",
        "y = df['target'].values"
      ],
      "metadata": {
        "id": "YlTDVbM8RJ8v"
      },
      "execution_count": 124,
      "outputs": []
    },
    {
      "cell_type": "code",
      "source": [
        "X_train, X_test, y_train, y_test = train_test_split(X, y, test_size=0.2)\n",
        "X_train = torch.FloatTensor(X_train)\n",
        "X_test = torch.FloatTensor(X_test)\n",
        "\n",
        "# y_train = F.one_hot(torch.LongTensor(y_train))  # not needed with Cross Entropy Loss\n",
        "# y_test = F.one_hot(torch.LongTensor(y_test))\n",
        "\n",
        "y_train = torch.LongTensor(y_train)\n",
        "y_test = torch.LongTensor(y_test)"
      ],
      "metadata": {
        "id": "PisbA4GBRWZ4"
      },
      "execution_count": 125,
      "outputs": []
    },
    {
      "cell_type": "code",
      "source": [
        "trainloader = DataLoader(X_train, batch_size=60, shuffle=True)\n",
        "testloader = DataLoader(X_test, batch_size=60, shuffle=False)"
      ],
      "metadata": {
        "id": "pocP9rbhacVa"
      },
      "execution_count": 126,
      "outputs": []
    },
    {
      "cell_type": "code",
      "source": [
        "criterion = nn.CrossEntropyLoss()\n",
        "optimizer = torch.optim.Adam(model.parameters(), lr=0.01)"
      ],
      "metadata": {
        "id": "7KOVvUbYUQ2Z"
      },
      "execution_count": 127,
      "outputs": []
    },
    {
      "cell_type": "code",
      "source": [
        "epochs = 250\n",
        "losses = list()\n",
        "\n",
        "for i in range(epochs):\n",
        "    # Forward Propagation\n",
        "    y_pred = model.forward(X_train)\n",
        "\n",
        "    loss = criterion(y_pred, y_train)\n",
        "    losses.append(loss)\n",
        "\n",
        "    if i % 10 == 0:\n",
        "        print(f\"Epoch: {i} Loss: {loss}\")\n",
        "\n",
        "    # Back Propagation\n",
        "    optimizer.zero_grad()\n",
        "    loss.backward()\n",
        "    optimizer.step()"
      ],
      "metadata": {
        "colab": {
          "base_uri": "https://localhost:8080/"
        },
        "id": "ZsiUzgU3UmFq",
        "outputId": "7b019cfa-b023-4b0c-b329-0f939330be8f"
      },
      "execution_count": 128,
      "outputs": [
        {
          "output_type": "stream",
          "name": "stdout",
          "text": [
            "Epoch: 0 Loss: 1.1700356006622314\n",
            "Epoch: 10 Loss: 0.9422596096992493\n",
            "Epoch: 20 Loss: 0.634901762008667\n",
            "Epoch: 30 Loss: 0.41852712631225586\n",
            "Epoch: 40 Loss: 0.3022810220718384\n",
            "Epoch: 50 Loss: 0.21046628057956696\n",
            "Epoch: 60 Loss: 0.14717361330986023\n",
            "Epoch: 70 Loss: 0.11325249075889587\n",
            "Epoch: 80 Loss: 0.09589435160160065\n",
            "Epoch: 90 Loss: 0.08577032387256622\n",
            "Epoch: 100 Loss: 0.07911562919616699\n",
            "Epoch: 110 Loss: 0.07436120510101318\n",
            "Epoch: 120 Loss: 0.07078591734170914\n",
            "Epoch: 130 Loss: 0.06799554079771042\n",
            "Epoch: 140 Loss: 0.06575086712837219\n",
            "Epoch: 150 Loss: 0.06389965116977692\n",
            "Epoch: 160 Loss: 0.062339190393686295\n",
            "Epoch: 170 Loss: 0.06099884957075119\n",
            "Epoch: 180 Loss: 0.059828441590070724\n",
            "Epoch: 190 Loss: 0.05879167839884758\n",
            "Epoch: 200 Loss: 0.057862091809511185\n",
            "Epoch: 210 Loss: 0.0570199154317379\n",
            "Epoch: 220 Loss: 0.056250493973493576\n",
            "Epoch: 230 Loss: 0.05554267019033432\n",
            "Epoch: 240 Loss: 0.0548880435526371\n"
          ]
        }
      ]
    },
    {
      "cell_type": "code",
      "source": [
        "for i in range(epochs):\n",
        "    losses[i]=losses[i].detach().numpy()"
      ],
      "metadata": {
        "id": "DOgGtBCQV_Wg"
      },
      "execution_count": 129,
      "outputs": []
    },
    {
      "cell_type": "code",
      "source": [
        "plt.figure(figsize=(12,6))\n",
        "plt.plot(range(epochs), losses)\n",
        "plt.xlabel('Epoch')\n",
        "plt.ylabel('Loss')\n",
        "plt.title('Model Loss');"
      ],
      "metadata": {
        "colab": {
          "base_uri": "https://localhost:8080/",
          "height": 564
        },
        "id": "oNzHkD9oVgkh",
        "outputId": "0a3fb6bb-9d86-4292-a1b5-aeeb8f8a629f"
      },
      "execution_count": 130,
      "outputs": [
        {
          "output_type": "display_data",
          "data": {
            "text/plain": [
              "<Figure size 1200x600 with 1 Axes>"
            ],
            "image/png": "[encoded data removed]"
          },
          "metadata": {}
        }
      ]
    },
    {
      "cell_type": "code",
      "source": [
        "correct = 0\n",
        "with torch.no_grad():\n",
        "    for idx,data in enumerate(X_test):\n",
        "        y_val = model.forward(data)\n",
        "        if y_val.argmax().item() == y_test[idx]:\n",
        "            correct += 1\n",
        "print(f'\\n{correct} out of {len(y_test)} = {100*correct/len(y_test):.2f}% correct')"
      ],
      "metadata": {
        "colab": {
          "base_uri": "https://localhost:8080/"
        },
        "id": "KkQh0NzPV1E9",
        "outputId": "ae9a6773-8421-42f6-82bf-22964bfea851"
      },
      "execution_count": 131,
      "outputs": [
        {
          "output_type": "stream",
          "name": "stdout",
          "text": [
            "\n",
            "30 out of 30 = 100.00% correct\n"
          ]
        }
      ]
    },
    {
      "cell_type": "code",
      "source": [
        "torch.save(model.state_dict(), 'Iris_Model.pt')"
      ],
      "metadata": {
        "id": "8jSpiWigbsI7"
      },
      "execution_count": 132,
      "outputs": []
    },
    {
      "cell_type": "code",
      "source": [
        "new_model = Model()\n",
        "new_model.load_state_dict(torch.load('Iris_Model.pt'))\n",
        "new_model.eval()"
      ],
      "metadata": {
        "colab": {
          "base_uri": "https://localhost:8080/"
        },
        "id": "6vlAoPiydTD5",
        "outputId": "656f0254-1393-4ed6-cf93-3dc16607d414"
      },
      "execution_count": 133,
      "outputs": [
        {
          "output_type": "execute_result",
          "data": {
            "text/plain": [
              "Model(\n",
              "  (fc1): Linear(in_features=4, out_features=8, bias=True)\n",
              "  (fc2): Linear(in_features=8, out_features=10, bias=True)\n",
              "  (out): Linear(in_features=10, out_features=3, bias=True)\n",
              ")"
            ]
          },
          "metadata": {},
          "execution_count": 133
        }
      ]
    },
    {
      "cell_type": "markdown",
      "source": [
        "# Full ANN Regression"
      ],
      "metadata": {
        "id": "L088LvUEa3G9"
      }
    },
    {
      "cell_type": "markdown",
      "source": [
        "## Feature Extraction"
      ],
      "metadata": {
        "id": "OH5HtKSpDl77"
      }
    },
    {
      "cell_type": "code",
      "source": [
        "df = pd.read_csv('NYCTaxiFares.csv')"
      ],
      "metadata": {
        "id": "83rpJPPma5gi"
      },
      "execution_count": 134,
      "outputs": []
    },
    {
      "cell_type": "code",
      "source": [
        "df.head(3)"
      ],
      "metadata": {
        "colab": {
          "base_uri": "https://localhost:8080/",
          "height": 143
        },
        "id": "1Nw4XGyY_2oR",
        "outputId": "a4de8351-509d-4756-ee31-96ef46f9fb4d"
      },
      "execution_count": 135,
      "outputs": [
        {
          "output_type": "execute_result",
          "data": {
            "text/plain": [
              "           pickup_datetime  fare_amount  fare_class  pickup_longitude  \\\n",
              "0  2010-04-19 08:17:56 UTC          6.5           0        -73.992365   \n",
              "1  2010-04-17 15:43:53 UTC          6.9           0        -73.990078   \n",
              "2  2010-04-17 11:23:26 UTC         10.1           1        -73.994149   \n",
              "\n",
              "   pickup_latitude  dropoff_longitude  dropoff_latitude  passenger_count  \n",
              "0        40.730521         -73.975499         40.744746                1  \n",
              "1        40.740558         -73.974232         40.744114                1  \n",
              "2        40.751118         -73.960064         40.766235                2  "
            ],
            "text/html": [
              "\n",
              "  <div id=\"df-dfe23911-841b-4763-8f6b-76353459e384\" class=\"colab-df-container\">\n",
              "    <div>\n",
              "<style scoped>\n",
              "    .dataframe tbody tr th:only-of-type {\n",
              "        vertical-align: middle;\n",
              "    }\n",
              "\n",
              "    .dataframe tbody tr th {\n",
              "        vertical-align: top;\n",
              "    }\n",
              "\n",
              "    .dataframe thead th {\n",
              "        text-align: right;\n",
              "    }\n",
              "</style>\n",
              "<table border=\"1\" class=\"dataframe\">\n",
              "  <thead>\n",
              "    <tr style=\"text-align: right;\">\n",
              "      <th></th>\n",
              "      <th>pickup_datetime</th>\n",
              "      <th>fare_amount</th>\n",
              "      <th>fare_class</th>\n",
              "      <th>pickup_longitude</th>\n",
              "      <th>pickup_latitude</th>\n",
              "      <th>dropoff_longitude</th>\n",
              "      <th>dropoff_latitude</th>\n",
              "      <th>passenger_count</th>\n",
              "    </tr>\n",
              "  </thead>\n",
              "  <tbody>\n",
              "    <tr>\n",
              "      <th>0</th>\n",
              "      <td>2010-04-19 08:17:56 UTC</td>\n",
              "      <td>6.5</td>\n",
              "      <td>0</td>\n",
              "      <td>-73.992365</td>\n",
              "      <td>40.730521</td>\n",
              "      <td>-73.975499</td>\n",
              "      <td>40.744746</td>\n",
              "      <td>1</td>\n",
              "    </tr>\n",
              "    <tr>\n",
              "      <th>1</th>\n",
              "      <td>2010-04-17 15:43:53 UTC</td>\n",
              "      <td>6.9</td>\n",
              "      <td>0</td>\n",
              "      <td>-73.990078</td>\n",
              "      <td>40.740558</td>\n",
              "      <td>-73.974232</td>\n",
              "      <td>40.744114</td>\n",
              "      <td>1</td>\n",
              "    </tr>\n",
              "    <tr>\n",
              "      <th>2</th>\n",
              "      <td>2010-04-17 11:23:26 UTC</td>\n",
              "      <td>10.1</td>\n",
              "      <td>1</td>\n",
              "      <td>-73.994149</td>\n",
              "      <td>40.751118</td>\n",
              "      <td>-73.960064</td>\n",
              "      <td>40.766235</td>\n",
              "      <td>2</td>\n",
              "    </tr>\n",
              "  </tbody>\n",
              "</table>\n",
              "</div>\n",
              "    <div class=\"colab-df-buttons\">\n",
              "\n",
              "  <div class=\"colab-df-container\">\n",
              "    <button class=\"colab-df-convert\" onclick=\"convertToInteractive('df-dfe23911-841b-4763-8f6b-76353459e384')\"\n",
              "            title=\"Convert this dataframe to an interactive table.\"\n",
              "            style=\"display:none;\">\n",
              "\n",
              "  <svg xmlns=\"http://www.w3.org/2000/svg\" height=\"24px\" viewBox=\"0 -960 960 960\">\n",
              "    <path d=\"M120-120v-720h720v720H120Zm60-500h600v-160H180v160Zm220 220h160v-160H400v160Zm0 220h160v-160H400v160ZM180-400h160v-160H180v160Zm440 0h160v-160H620v160ZM180-180h160v-160H180v160Zm440 0h160v-160H620v160Z\"/>\n",
              "  </svg>\n",
              "    </button>\n",
              "\n",
              "  <style>\n",
              "    .colab-df-container {\n",
              "      display:flex;\n",
              "      gap: 12px;\n",
              "    }\n",
              "\n",
              "    .colab-df-convert {\n",
              "      background-color: #E8F0FE;\n",
              "      border: none;\n",
              "      border-radius: 50%;\n",
              "      cursor: pointer;\n",
              "      display: none;\n",
              "      fill: #1967D2;\n",
              "      height: 32px;\n",
              "      padding: 0 0 0 0;\n",
              "      width: 32px;\n",
              "    }\n",
              "\n",
              "    .colab-df-convert:hover {\n",
              "      background-color: #E2EBFA;\n",
              "      box-shadow: 0px 1px 2px rgba(60, 64, 67, 0.3), 0px 1px 3px 1px rgba(60, 64, 67, 0.15);\n",
              "      fill: #174EA6;\n",
              "    }\n",
              "\n",
              "    .colab-df-buttons div {\n",
              "      margin-bottom: 4px;\n",
              "    }\n",
              "\n",
              "    [theme=dark] .colab-df-convert {\n",
              "      background-color: #3B4455;\n",
              "      fill: #D2E3FC;\n",
              "    }\n",
              "\n",
              "    [theme=dark] .colab-df-convert:hover {\n",
              "      background-color: #434B5C;\n",
              "      box-shadow: 0px 1px 3px 1px rgba(0, 0, 0, 0.15);\n",
              "      filter: drop-shadow(0px 1px 2px rgba(0, 0, 0, 0.3));\n",
              "      fill: #FFFFFF;\n",
              "    }\n",
              "  </style>\n",
              "\n",
              "    <script>\n",
              "      const buttonEl =\n",
              "        document.querySelector('#df-dfe23911-841b-4763-8f6b-76353459e384 button.colab-df-convert');\n",
              "      buttonEl.style.display =\n",
              "        google.colab.kernel.accessAllowed ? 'block' : 'none';\n",
              "\n",
              "      async function convertToInteractive(key) {\n",
              "        const element = document.querySelector('#df-dfe23911-841b-4763-8f6b-76353459e384');\n",
              "        const dataTable =\n",
              "          await google.colab.kernel.invokeFunction('convertToInteractive',\n",
              "                                                    [key], {});\n",
              "        if (!dataTable) return;\n",
              "\n",
              "        const docLinkHtml = 'Like what you see? Visit the ' +\n",
              "          '<a target=\"_blank\" href=https://colab.research.google.com/notebooks/data_table.ipynb>data table notebook</a>'\n",
              "          + ' to learn more about interactive tables.';\n",
              "        element.innerHTML = '';\n",
              "        dataTable['output_type'] = 'display_data';\n",
              "        await google.colab.output.renderOutput(dataTable, element);\n",
              "        const docLink = document.createElement('div');\n",
              "        docLink.innerHTML = docLinkHtml;\n",
              "        element.appendChild(docLink);\n",
              "      }\n",
              "    </script>\n",
              "  </div>\n",
              "\n",
              "\n",
              "<div id=\"df-c1223569-b58b-4a2a-aedb-3d87687dccc3\">\n",
              "  <button class=\"colab-df-quickchart\" onclick=\"quickchart('df-c1223569-b58b-4a2a-aedb-3d87687dccc3')\"\n",
              "            title=\"Suggest charts\"\n",
              "            style=\"display:none;\">\n",
              "\n",
              "<svg xmlns=\"http://www.w3.org/2000/svg\" height=\"24px\"viewBox=\"0 0 24 24\"\n",
              "     width=\"24px\">\n",
              "    <g>\n",
              "        <path d=\"M19 3H5c-1.1 0-2 .9-2 2v14c0 1.1.9 2 2 2h14c1.1 0 2-.9 2-2V5c0-1.1-.9-2-2-2zM9 17H7v-7h2v7zm4 0h-2V7h2v10zm4 0h-2v-4h2v4z\"/>\n",
              "    </g>\n",
              "</svg>\n",
              "  </button>\n",
              "\n",
              "<style>\n",
              "  .colab-df-quickchart {\n",
              "      --bg-color: #E8F0FE;\n",
              "      --fill-color: #1967D2;\n",
              "      --hover-bg-color: #E2EBFA;\n",
              "      --hover-fill-color: #174EA6;\n",
              "      --disabled-fill-color: #AAA;\n",
              "      --disabled-bg-color: #DDD;\n",
              "  }\n",
              "\n",
              "  [theme=dark] .colab-df-quickchart {\n",
              "      --bg-color: #3B4455;\n",
              "      --fill-color: #D2E3FC;\n",
              "      --hover-bg-color: #434B5C;\n",
              "      --hover-fill-color: #FFFFFF;\n",
              "      --disabled-bg-color: #3B4455;\n",
              "      --disabled-fill-color: #666;\n",
              "  }\n",
              "\n",
              "  .colab-df-quickchart {\n",
              "    background-color: var(--bg-color);\n",
              "    border: none;\n",
              "    border-radius: 50%;\n",
              "    cursor: pointer;\n",
              "    display: none;\n",
              "    fill: var(--fill-color);\n",
              "    height: 32px;\n",
              "    padding: 0;\n",
              "    width: 32px;\n",
              "  }\n",
              "\n",
              "  .colab-df-quickchart:hover {\n",
              "    background-color: var(--hover-bg-color);\n",
              "    box-shadow: 0 1px 2px rgba(60, 64, 67, 0.3), 0 1px 3px 1px rgba(60, 64, 67, 0.15);\n",
              "    fill: var(--button-hover-fill-color);\n",
              "  }\n",
              "\n",
              "  .colab-df-quickchart-complete:disabled,\n",
              "  .colab-df-quickchart-complete:disabled:hover {\n",
              "    background-color: var(--disabled-bg-color);\n",
              "    fill: var(--disabled-fill-color);\n",
              "    box-shadow: none;\n",
              "  }\n",
              "\n",
              "  .colab-df-spinner {\n",
              "    border: 2px solid var(--fill-color);\n",
              "    border-color: transparent;\n",
              "    border-bottom-color: var(--fill-color);\n",
              "    animation:\n",
              "      spin 1s steps(1) infinite;\n",
              "  }\n",
              "\n",
              "  @keyframes spin {\n",
              "    0% {\n",
              "      border-color: transparent;\n",
              "      border-bottom-color: var(--fill-color);\n",
              "      border-left-color: var(--fill-color);\n",
              "    }\n",
              "    20% {\n",
              "      border-color: transparent;\n",
              "      border-left-color: var(--fill-color);\n",
              "      border-top-color: var(--fill-color);\n",
              "    }\n",
              "    30% {\n",
              "      border-color: transparent;\n",
              "      border-left-color: var(--fill-color);\n",
              "      border-top-color: var(--fill-color);\n",
              "      border-right-color: var(--fill-color);\n",
              "    }\n",
              "    40% {\n",
              "      border-color: transparent;\n",
              "      border-right-color: var(--fill-color);\n",
              "      border-top-color: var(--fill-color);\n",
              "    }\n",
              "    60% {\n",
              "      border-color: transparent;\n",
              "      border-right-color: var(--fill-color);\n",
              "    }\n",
              "    80% {\n",
              "      border-color: transparent;\n",
              "      border-right-color: var(--fill-color);\n",
              "      border-bottom-color: var(--fill-color);\n",
              "    }\n",
              "    90% {\n",
              "      border-color: transparent;\n",
              "      border-bottom-color: var(--fill-color);\n",
              "    }\n",
              "  }\n",
              "</style>\n",
              "\n",
              "  <script>\n",
              "    async function quickchart(key) {\n",
              "      const quickchartButtonEl =\n",
              "        document.querySelector('#' + key + ' button');\n",
              "      quickchartButtonEl.disabled = true;  // To prevent multiple clicks.\n",
              "      quickchartButtonEl.classList.add('colab-df-spinner');\n",
              "      try {\n",
              "        const charts = await google.colab.kernel.invokeFunction(\n",
              "            'suggestCharts', [key], {});\n",
              "      } catch (error) {\n",
              "        console.error('Error during call to suggestCharts:', error);\n",
              "      }\n",
              "      quickchartButtonEl.classList.remove('colab-df-spinner');\n",
              "      quickchartButtonEl.classList.add('colab-df-quickchart-complete');\n",
              "    }\n",
              "    (() => {\n",
              "      let quickchartButtonEl =\n",
              "        document.querySelector('#df-c1223569-b58b-4a2a-aedb-3d87687dccc3 button');\n",
              "      quickchartButtonEl.style.display =\n",
              "        google.colab.kernel.accessAllowed ? 'block' : 'none';\n",
              "    })();\n",
              "  </script>\n",
              "</div>\n",
              "    </div>\n",
              "  </div>\n"
            ]
          },
          "metadata": {},
          "execution_count": 135
        }
      ]
    },
    {
      "cell_type": "code",
      "source": [
        "df.columns"
      ],
      "metadata": {
        "colab": {
          "base_uri": "https://localhost:8080/"
        },
        "id": "bG9QGMMT_4D8",
        "outputId": "0a121962-4a4c-4088-ea24-a5fc03c01616"
      },
      "execution_count": 136,
      "outputs": [
        {
          "output_type": "execute_result",
          "data": {
            "text/plain": [
              "Index(['pickup_datetime', 'fare_amount', 'fare_class', 'pickup_longitude',\n",
              "       'pickup_latitude', 'dropoff_longitude', 'dropoff_latitude',\n",
              "       'passenger_count'],\n",
              "      dtype='object')"
            ]
          },
          "metadata": {},
          "execution_count": 136
        }
      ]
    },
    {
      "cell_type": "code",
      "source": [
        "df.info()"
      ],
      "metadata": {
        "colab": {
          "base_uri": "https://localhost:8080/"
        },
        "id": "2OTdNeLj_7Et",
        "outputId": "96b365c1-3fbb-4113-d18f-6bcab9361161"
      },
      "execution_count": 137,
      "outputs": [
        {
          "output_type": "stream",
          "name": "stdout",
          "text": [
            "<class 'pandas.core.frame.DataFrame'>\n",
            "RangeIndex: 120000 entries, 0 to 119999\n",
            "Data columns (total 8 columns):\n",
            " #   Column             Non-Null Count   Dtype  \n",
            "---  ------             --------------   -----  \n",
            " 0   pickup_datetime    120000 non-null  object \n",
            " 1   fare_amount        120000 non-null  float64\n",
            " 2   fare_class         120000 non-null  int64  \n",
            " 3   pickup_longitude   120000 non-null  float64\n",
            " 4   pickup_latitude    120000 non-null  float64\n",
            " 5   dropoff_longitude  120000 non-null  float64\n",
            " 6   dropoff_latitude   120000 non-null  float64\n",
            " 7   passenger_count    120000 non-null  int64  \n",
            "dtypes: float64(5), int64(2), object(1)\n",
            "memory usage: 7.3+ MB\n"
          ]
        }
      ]
    },
    {
      "cell_type": "code",
      "source": [
        "df.pickup_datetime = pd.to_datetime(df.pickup_datetime)"
      ],
      "metadata": {
        "id": "I7g2jIIQ__DF"
      },
      "execution_count": 138,
      "outputs": []
    },
    {
      "cell_type": "code",
      "source": [
        "df['isweekend'] = df.pickup_datetime.dt.weekday > 4"
      ],
      "metadata": {
        "id": "iKv4ZP8PArS3"
      },
      "execution_count": 139,
      "outputs": []
    },
    {
      "cell_type": "code",
      "source": [
        "def haversine_distance(df, lat1, long1, lat2, long2):\n",
        "\n",
        "    r = 6371  # average radius of Earth in kilometers\n",
        "\n",
        "    phi1 = np.radians(df[lat1])\n",
        "    phi2 = np.radians(df[lat2])\n",
        "\n",
        "    delta_phi = np.radians(df[lat2]-df[lat1])\n",
        "    delta_lambda = np.radians(df[long2]-df[long1])\n",
        "\n",
        "    a = np.sin(delta_phi/2)**2 + np.cos(phi1) * np.cos(phi2) * np.sin(delta_lambda/2)**2\n",
        "    c = 2 * np.arctan2(np.sqrt(a), np.sqrt(1-a))\n",
        "    d = (r * c) # in kilometers\n",
        "\n",
        "    return d"
      ],
      "metadata": {
        "id": "trrRAMjTDj_H"
      },
      "execution_count": 140,
      "outputs": []
    },
    {
      "cell_type": "code",
      "source": [
        "df['distance_km'] = haversine_distance(df, 'pickup_latitude', 'pickup_longitude', 'dropoff_latitude', 'dropoff_longitude')"
      ],
      "metadata": {
        "id": "Qmcd3PijEFmt"
      },
      "execution_count": 141,
      "outputs": []
    },
    {
      "cell_type": "markdown",
      "source": [
        "Changing UTC time to NYC time"
      ],
      "metadata": {
        "id": "aav8OPxoFaJp"
      }
    },
    {
      "cell_type": "code",
      "source": [
        "df['pickup_datetime'] = df.pickup_datetime - pd.Timedelta(hours=4)"
      ],
      "metadata": {
        "id": "YreycJ7YE6h6"
      },
      "execution_count": 142,
      "outputs": []
    },
    {
      "cell_type": "code",
      "source": [
        "df['hour'] = df.pickup_datetime.dt.hour"
      ],
      "metadata": {
        "id": "2IkbFk8SAG-U"
      },
      "execution_count": 143,
      "outputs": []
    },
    {
      "cell_type": "code",
      "source": [
        "df['AM_or_PM'] = np.where(df.hour < 12, 'PM', 'AM')"
      ],
      "metadata": {
        "id": "eAQfKDy5FRo1"
      },
      "execution_count": 144,
      "outputs": []
    },
    {
      "cell_type": "code",
      "source": [
        "cat_cols = ['isweekend','hour',\t'AM_or_PM']\n",
        "cont_cols = ['passenger_count', 'distance_km']"
      ],
      "metadata": {
        "id": "gcUlfE4CMkMh"
      },
      "execution_count": 145,
      "outputs": []
    },
    {
      "cell_type": "code",
      "source": [
        "for col in cat_cols:\n",
        "    df[col] = df[col].astype('category')"
      ],
      "metadata": {
        "id": "fK1FdkskM0Yv"
      },
      "execution_count": 146,
      "outputs": []
    },
    {
      "cell_type": "code",
      "source": [
        "df['AM_or_PM'].cat.categories"
      ],
      "metadata": {
        "colab": {
          "base_uri": "https://localhost:8080/"
        },
        "id": "efO590bVNpeC",
        "outputId": "35a6b704-0708-459d-bfa2-5b5ad7f75041"
      },
      "execution_count": 147,
      "outputs": [
        {
          "output_type": "execute_result",
          "data": {
            "text/plain": [
              "Index(['AM', 'PM'], dtype='object')"
            ]
          },
          "metadata": {},
          "execution_count": 147
        }
      ]
    },
    {
      "cell_type": "code",
      "source": [
        "df['AM_or_PM'].values"
      ],
      "metadata": {
        "colab": {
          "base_uri": "https://localhost:8080/"
        },
        "id": "nXITcOYnNA5X",
        "outputId": "edcf6ace-b5be-4e9d-ef8b-78bb0c4501a7"
      },
      "execution_count": 148,
      "outputs": [
        {
          "output_type": "execute_result",
          "data": {
            "text/plain": [
              "['PM', 'PM', 'PM', 'AM', 'AM', ..., 'PM', 'PM', 'AM', 'PM', 'AM']\n",
              "Length: 120000\n",
              "Categories (2, object): ['AM', 'PM']"
            ]
          },
          "metadata": {},
          "execution_count": 148
        }
      ]
    },
    {
      "cell_type": "code",
      "source": [
        "df['AM_or_PM'].cat.codes"
      ],
      "metadata": {
        "colab": {
          "base_uri": "https://localhost:8080/"
        },
        "id": "TvVN8tuyN6gf",
        "outputId": "0de2ba8d-9e87-4bbe-db2b-3084442c8831"
      },
      "execution_count": 149,
      "outputs": [
        {
          "output_type": "execute_result",
          "data": {
            "text/plain": [
              "0         1\n",
              "1         1\n",
              "2         1\n",
              "3         0\n",
              "4         0\n",
              "         ..\n",
              "119995    1\n",
              "119996    1\n",
              "119997    0\n",
              "119998    1\n",
              "119999    0\n",
              "Length: 120000, dtype: int8"
            ]
          },
          "metadata": {},
          "execution_count": 149
        }
      ]
    },
    {
      "cell_type": "code",
      "source": [
        "df['AM_or_PM'].cat.codes.values"
      ],
      "metadata": {
        "colab": {
          "base_uri": "https://localhost:8080/"
        },
        "id": "iuym3qZ6N8w_",
        "outputId": "97164bd1-9dd1-4ad1-fcc0-57381b176db4"
      },
      "execution_count": 150,
      "outputs": [
        {
          "output_type": "execute_result",
          "data": {
            "text/plain": [
              "array([1, 1, 1, ..., 0, 1, 0], dtype=int8)"
            ]
          },
          "metadata": {},
          "execution_count": 150
        }
      ]
    },
    {
      "cell_type": "code",
      "source": [
        "cats = torch.tensor(np.stack([df[col].cat.codes.values for col in cat_cols],axis=1),dtype=torch.int)"
      ],
      "metadata": {
        "id": "GdxAbUwHNN79"
      },
      "execution_count": 151,
      "outputs": []
    },
    {
      "cell_type": "code",
      "source": [
        "conts = torch.tensor(np.stack([df[col].values for col in cont_cols],axis=1),dtype=torch.float)"
      ],
      "metadata": {
        "id": "xaI1SdefNyIR"
      },
      "execution_count": 152,
      "outputs": []
    },
    {
      "cell_type": "code",
      "source": [
        "y = torch.tensor(df['fare_amount'],dtype=torch.float)"
      ],
      "metadata": {
        "id": "7yYHgpk6PL3O"
      },
      "execution_count": 153,
      "outputs": []
    },
    {
      "cell_type": "code",
      "source": [
        "cat_sizes = [len(df[col].cat.categories) for col in cat_cols]\n",
        "embedding_sizes = [(size,min(50,(size+1)//2)) for size in cat_sizes]\n",
        "embedding_sizes"
      ],
      "metadata": {
        "colab": {
          "base_uri": "https://localhost:8080/"
        },
        "id": "dlGYHiv1O2kt",
        "outputId": "c0f783ac-446c-4179-b163-c1617c064862"
      },
      "execution_count": 154,
      "outputs": [
        {
          "output_type": "execute_result",
          "data": {
            "text/plain": [
              "[(2, 1), (24, 12), (2, 1)]"
            ]
          },
          "metadata": {},
          "execution_count": 154
        }
      ]
    },
    {
      "cell_type": "code",
      "source": [
        "selfembeds = nn.ModuleList([nn.Embedding(ni, nf) for ni,nf in embedding_sizes])\n",
        "\n",
        "type(list(enumerate(selfembeds))[0][1])"
      ],
      "metadata": {
        "colab": {
          "base_uri": "https://localhost:8080/"
        },
        "id": "a2fk1M_nD0B5",
        "outputId": "f82216d0-7c8e-41f2-836c-612c139e2fe3"
      },
      "execution_count": 155,
      "outputs": [
        {
          "output_type": "execute_result",
          "data": {
            "text/plain": [
              "torch.nn.modules.sparse.Embedding"
            ]
          },
          "metadata": {},
          "execution_count": 155
        }
      ]
    },
    {
      "cell_type": "markdown",
      "source": [
        "## Tabular Model"
      ],
      "metadata": {
        "id": "DzjcBK1D46Lq"
      }
    },
    {
      "cell_type": "code",
      "source": [
        " class TabularModel (nn.Module):\n",
        "\n",
        "    def __init__(self, emb_szs, n_conts, out_sz, layers, p=0.5):\n",
        "\n",
        "        super().__init__()\n",
        "        self.embeds = nn.ModuleList([nn.Embedding(ni,nf) for ni,nf in emb_szs])\n",
        "        self.emb_drop = nn.Dropout(p)\n",
        "        self.bn_cont = nn.BatchNorm1d(n_conts)\n",
        "\n",
        "        layerslist = list()\n",
        "        n_emb = sum((nf for ni,nf in emb_szs))\n",
        "        n_in = n_emb + n_conts\n",
        "\n",
        "        for i in layers:\n",
        "            layerslist.append(nn.Linear(n_in, i))\n",
        "            layerslist.append(nn.ReLU(inplace=True))\n",
        "            layerslist.append(nn.BatchNorm1d(i))\n",
        "            layerslist.append(nn.Dropout(p))\n",
        "            n_in = i\n",
        "\n",
        "        layerslist.append(nn.Linear(layers[-1],out_sz))\n",
        "\n",
        "        self.layers = nn.Sequential(*layerslist)\n",
        "\n",
        "\n",
        "    def forward(self, x_cat, x_cont):\n",
        "\n",
        "        embeddings = list()\n",
        "\n",
        "        for i,e in enumerate(self.embeds):\n",
        "            embeddings.append(e(x_cat[:,i]))\n",
        "\n",
        "        x = torch.cat(embeddings, 1)\n",
        "        x = self.emb_drop(x)\n",
        "\n",
        "        x_cont = self.bn_cont(x_cont)\n",
        "        x = torch.cat ([x, x_cont], 1)\n",
        "        x = self.layers(x)\n",
        "\n",
        "        return x"
      ],
      "metadata": {
        "id": "16F8bgbtQE-Q"
      },
      "execution_count": 156,
      "outputs": []
    },
    {
      "cell_type": "markdown",
      "source": [
        "For Classification, we set the `out_sz` equal to the number of classes. (for binary `out_sz = 2`)"
      ],
      "metadata": {
        "id": "uMxwjM8iu6bk"
      }
    },
    {
      "cell_type": "code",
      "source": [
        "model = TabularModel(embedding_sizes, conts.shape[1], 1, [200,100], p=0.4)"
      ],
      "metadata": {
        "id": "25FdZV3yijlT"
      },
      "execution_count": 157,
      "outputs": []
    },
    {
      "cell_type": "code",
      "source": [
        "model"
      ],
      "metadata": {
        "colab": {
          "base_uri": "https://localhost:8080/"
        },
        "id": "3ycrr9eKi06r",
        "outputId": "e9efc7b2-4a63-4895-f9ad-7fdea38268a8"
      },
      "execution_count": 158,
      "outputs": [
        {
          "output_type": "execute_result",
          "data": {
            "text/plain": [
              "TabularModel(\n",
              "  (embeds): ModuleList(\n",
              "    (0): Embedding(2, 1)\n",
              "    (1): Embedding(24, 12)\n",
              "    (2): Embedding(2, 1)\n",
              "  )\n",
              "  (emb_drop): Dropout(p=0.4, inplace=False)\n",
              "  (bn_cont): BatchNorm1d(2, eps=1e-05, momentum=0.1, affine=True, track_running_stats=True)\n",
              "  (layers): Sequential(\n",
              "    (0): Linear(in_features=16, out_features=200, bias=True)\n",
              "    (1): ReLU(inplace=True)\n",
              "    (2): BatchNorm1d(200, eps=1e-05, momentum=0.1, affine=True, track_running_stats=True)\n",
              "    (3): Dropout(p=0.4, inplace=False)\n",
              "    (4): Linear(in_features=200, out_features=100, bias=True)\n",
              "    (5): ReLU(inplace=True)\n",
              "    (6): BatchNorm1d(100, eps=1e-05, momentum=0.1, affine=True, track_running_stats=True)\n",
              "    (7): Dropout(p=0.4, inplace=False)\n",
              "    (8): Linear(in_features=100, out_features=1, bias=True)\n",
              "  )\n",
              ")"
            ]
          },
          "metadata": {},
          "execution_count": 158
        }
      ]
    },
    {
      "cell_type": "code",
      "source": [
        "criterion = nn.MSELoss()\n",
        "optimizer = torch.optim.Adam(model.parameters(), lr=0.001)"
      ],
      "metadata": {
        "id": "fWhT4SdRi7Ml"
      },
      "execution_count": 159,
      "outputs": []
    },
    {
      "cell_type": "markdown",
      "source": [
        "For Classification problems, we choose CrossEntropy as our loss function.\n",
        "\n",
        "`criterion = nn.CrossEntropyLoss()`"
      ],
      "metadata": {
        "id": "cPNbJZPivLGc"
      }
    },
    {
      "cell_type": "markdown",
      "source": [
        "### Train Test Split"
      ],
      "metadata": {
        "id": "8i6UVSjTkoR7"
      }
    },
    {
      "cell_type": "code",
      "source": [
        "batch_size = 60000\n",
        "test_size = int(batch_size * 0.2)\n",
        "\n",
        "cat_train = cats[:batch_size-test_size]\n",
        "cat_test = cats[batch_size-test_size:batch_size]\n",
        "\n",
        "con_train = conts[:batch_size-test_size]\n",
        "con_test = conts[batch_size-test_size:batch_size]\n",
        "\n",
        "y_train = y[:batch_size-test_size]\n",
        "y_test = y[batch_size-test_size:batch_size]"
      ],
      "metadata": {
        "id": "Tjd8_4yQjKTV"
      },
      "execution_count": 160,
      "outputs": []
    },
    {
      "cell_type": "markdown",
      "source": [
        "### Model Training"
      ],
      "metadata": {
        "id": "mLdQQTv6ksRh"
      }
    },
    {
      "cell_type": "code",
      "source": [
        "start_time = time.time()\n",
        "\n",
        "epochs = 300\n",
        "losses = list()\n",
        "\n",
        "for i in range(epochs):\n",
        "    i+=1\n",
        "    y_pred = model(cat_train, con_train)\n",
        "    loss = torch.sqrt(criterion(y_pred, y_train)) # RMSE\n",
        "    losses.append(loss)\n",
        "\n",
        "    if i%10 == 1:\n",
        "        print(f'epoch: {i:3}  loss: {loss.item():10.8f}')\n",
        "\n",
        "    optimizer.zero_grad()\n",
        "    loss.backward()\n",
        "    optimizer.step()\n",
        "\n",
        "print(f'epoch: {i:3}  loss: {loss.item():10.8f}')\n",
        "\n",
        "print(f'\\nDuration: {time.time() - start_time:.0f} seconds')"
      ],
      "metadata": {
        "colab": {
          "base_uri": "https://localhost:8080/"
        },
        "id": "h7NpPLkTkc9x",
        "outputId": "0fb9c246-525c-42e4-a563-a2740895b6c2"
      },
      "execution_count": null,
      "outputs": [
        {
          "output_type": "stream",
          "name": "stdout",
          "text": [
            "epoch:   1  loss: 12.60579491\n",
            "epoch:  11  loss: 12.54256535\n",
            "epoch:  21  loss: 12.48777294\n",
            "epoch:  31  loss: 12.41508865\n",
            "epoch:  41  loss: 12.31355572\n",
            "epoch:  51  loss: 12.18220520\n",
            "epoch:  61  loss: 12.01717854\n",
            "epoch:  71  loss: 11.82378769\n",
            "epoch:  81  loss: 11.58223057\n",
            "epoch:  91  loss: 11.32539749\n",
            "epoch: 101  loss: 11.02207184\n",
            "epoch: 111  loss: 10.71096134\n",
            "epoch: 121  loss: 10.37165356\n"
          ]
        }
      ]
    },
    {
      "cell_type": "code",
      "source": [
        "for i in range(epochs):\n",
        "    losses[i]=losses[i].detach().numpy()"
      ],
      "metadata": {
        "id": "SylMhGiNpG9e"
      },
      "execution_count": null,
      "outputs": []
    },
    {
      "cell_type": "code",
      "source": [
        "plt.figure(figsize=(12,6))\n",
        "plt.plot(range(epochs), losses)\n",
        "plt.xlabel('Epoch')\n",
        "plt.ylabel('RMSE Loss')\n",
        "plt.title('Model Loss');"
      ],
      "metadata": {
        "id": "lp90W8R8pFq1"
      },
      "execution_count": null,
      "outputs": []
    },
    {
      "cell_type": "code",
      "source": [
        "with torch.no_grad():\n",
        "    y_val = model(cat_test, con_test)\n",
        "    loss = torch.sqrt(criterion(y_val, y_test))\n",
        "print(f'RMSE: {loss:.8f}')"
      ],
      "metadata": {
        "id": "JrR_XsJarB70"
      },
      "execution_count": null,
      "outputs": []
    },
    {
      "cell_type": "code",
      "source": [
        "print(f'{\"Predicted\":>12} {\"Actual\":>8} {\"Diff\":>8}')\n",
        "for i in range(50):\n",
        "    diff = np.abs(y_val[i].item()-y_test[i].item())\n",
        "    print(f'{i+1:2}. {y_val[i].item():8.4f} {y_test[i].item():8.4f} {diff:8.4f}')"
      ],
      "metadata": {
        "id": "884fTlBArh1G"
      },
      "execution_count": null,
      "outputs": []
    },
    {
      "cell_type": "code",
      "source": [
        "if len(losses) == epochs:\n",
        "    torch.save(model.state_dict(), 'TaxiFareRegrModel.pt')\n",
        "else:\n",
        "    print('Model has not been trained. Consider loading a trained model instead.')"
      ],
      "metadata": {
        "id": "tUb8sLIHro6J"
      },
      "execution_count": null,
      "outputs": []
    }
  ]
}