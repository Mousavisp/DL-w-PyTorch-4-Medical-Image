{
  "nbformat": 4,
  "nbformat_minor": 0,
  "metadata": {
    "colab": {
      "provenance": [],
      "authorship_tag": "ABX9TyP+L8Cm8A/d5+LprTlLdhZJ",
      "include_colab_link": true
    },
    "kernelspec": {
      "name": "python3",
      "display_name": "Python 3"
    },
    "language_info": {
      "name": "python"
    }
  },
  "cells": [
    {
      "cell_type": "markdown",
      "metadata": {
        "id": "view-in-github",
        "colab_type": "text"
      },
      "source": [
        "<a href=\"https://colab.research.google.com/github/Mousavisp/DL-w-PyTorch-4-Medical-Image/blob/main/5_ANN_Artificial_Neural_Networks.ipynb\" target=\"_parent\"><img src=\"https://colab.research.google.com/assets/colab-badge.svg\" alt=\"Open In Colab\"/></a>"
      ]
    },
    {
      "cell_type": "code",
      "execution_count": 1,
      "metadata": {
        "id": "YMVkTSouEH3z"
      },
      "outputs": [],
      "source": [
        "import torch\n",
        "\n",
        "import numpy as np\n",
        "import pandas as pd\n",
        "import matplotlib.pyplot as plt\n",
        "import seaborn as sns\n",
        "\n",
        "import torch.nn as nn"
      ]
    },
    {
      "cell_type": "markdown",
      "source": [
        "# PyTorch Gradients"
      ],
      "metadata": {
        "id": "YAuO-FPeHOaz"
      }
    },
    {
      "cell_type": "code",
      "source": [
        "x = torch.tensor(2.0, requires_grad=True)"
      ],
      "metadata": {
        "id": "fzob8pt_ETQM"
      },
      "execution_count": 2,
      "outputs": []
    },
    {
      "cell_type": "code",
      "source": [
        "y = 2*x**4 + x**3 + 3*x**2 + 5*x + 1\n",
        "print(y)\n",
        "type(y)"
      ],
      "metadata": {
        "colab": {
          "base_uri": "https://localhost:8080/"
        },
        "id": "OGXrQLDoEa_g",
        "outputId": "0de6ca8b-2b43-4567-a414-f63cc5900162"
      },
      "execution_count": 3,
      "outputs": [
        {
          "output_type": "stream",
          "name": "stdout",
          "text": [
            "tensor(63., grad_fn=<AddBackward0>)\n"
          ]
        },
        {
          "output_type": "execute_result",
          "data": {
            "text/plain": [
              "torch.Tensor"
            ]
          },
          "metadata": {},
          "execution_count": 3
        }
      ]
    },
    {
      "cell_type": "markdown",
      "source": [
        "backprop"
      ],
      "metadata": {
        "id": "pYO4vGxWE160"
      }
    },
    {
      "cell_type": "code",
      "source": [
        "y.backward()"
      ],
      "metadata": {
        "id": "4ogEZeywEkOx"
      },
      "execution_count": 4,
      "outputs": []
    },
    {
      "cell_type": "markdown",
      "source": [
        "slope of x=2, f(x)=63 is x.grad\n",
        "\n",
        "(putting x=2 in f'(x) gives x.grad)"
      ],
      "metadata": {
        "id": "DqbS2ma3E4hl"
      }
    },
    {
      "cell_type": "code",
      "source": [
        "x.grad"
      ],
      "metadata": {
        "colab": {
          "base_uri": "https://localhost:8080/"
        },
        "id": "S_GmdQrDEss0",
        "outputId": "a0ff7468-36de-4d58-f8e3-ba20e9b280da"
      },
      "execution_count": 5,
      "outputs": [
        {
          "output_type": "execute_result",
          "data": {
            "text/plain": [
              "tensor(93.)"
            ]
          },
          "metadata": {},
          "execution_count": 5
        }
      ]
    },
    {
      "cell_type": "code",
      "source": [
        "x = torch.tensor([[1.,2.,3.],[3.,2.,1.]],requires_grad=True)"
      ],
      "metadata": {
        "id": "ylTsrpGCEvhx"
      },
      "execution_count": 6,
      "outputs": []
    },
    {
      "cell_type": "code",
      "source": [
        "y = 3*x + 2\n",
        "z = 2*y**2\n",
        "\n",
        "print(y)\n",
        "print(z)"
      ],
      "metadata": {
        "colab": {
          "base_uri": "https://localhost:8080/"
        },
        "id": "FC1ONKfmFVMA",
        "outputId": "eea037f0-f322-4162-9bb3-6843c9943404"
      },
      "execution_count": 7,
      "outputs": [
        {
          "output_type": "stream",
          "name": "stdout",
          "text": [
            "tensor([[ 5.,  8., 11.],\n",
            "        [11.,  8.,  5.]], grad_fn=<AddBackward0>)\n",
            "tensor([[ 50., 128., 242.],\n",
            "        [242., 128.,  50.]], grad_fn=<MulBackward0>)\n"
          ]
        }
      ]
    },
    {
      "cell_type": "code",
      "source": [
        "out = z.mean()\n",
        "print(out)"
      ],
      "metadata": {
        "colab": {
          "base_uri": "https://localhost:8080/"
        },
        "id": "KKdYi2-YFk1G",
        "outputId": "d7a92982-97be-4934-d011-d1cda1270d10"
      },
      "execution_count": 8,
      "outputs": [
        {
          "output_type": "stream",
          "name": "stdout",
          "text": [
            "tensor(140., grad_fn=<MeanBackward0>)\n"
          ]
        }
      ]
    },
    {
      "cell_type": "markdown",
      "source": [
        "performing back-propagation to find the gradient of x with respect to $out$"
      ],
      "metadata": {
        "id": "L02f6alkGOVM"
      }
    },
    {
      "cell_type": "code",
      "source": [
        "out.backward()"
      ],
      "metadata": {
        "id": "t9bxsYvEFyTu"
      },
      "execution_count": 9,
      "outputs": []
    },
    {
      "cell_type": "markdown",
      "source": [
        "solving the derivative of $z$ with the **chain rule**: $f(g(x)) = f'(g(x))g'(x)$"
      ],
      "metadata": {
        "id": "n0tpn3DHGknP"
      }
    },
    {
      "cell_type": "code",
      "source": [
        "x.grad"
      ],
      "metadata": {
        "colab": {
          "base_uri": "https://localhost:8080/"
        },
        "id": "uHBd8KyUFzzK",
        "outputId": "a11c9def-94fd-403c-e823-d4e71712dd3d"
      },
      "execution_count": 10,
      "outputs": [
        {
          "output_type": "execute_result",
          "data": {
            "text/plain": [
              "tensor([[10., 16., 22.],\n",
              "        [22., 16., 10.]])"
            ]
          },
          "metadata": {},
          "execution_count": 10
        }
      ]
    },
    {
      "cell_type": "markdown",
      "source": [
        "# Linear Model"
      ],
      "metadata": {
        "id": "L0cTIK3FHTVA"
      }
    },
    {
      "cell_type": "code",
      "source": [
        "X = torch.linspace(1,50,50).reshape(-1,1)\n",
        "e = torch.randint(-7,8, X.shape, dtype=torch.float)\n",
        "y = 2*X + 3 + e"
      ],
      "metadata": {
        "id": "5M048J6iF1o-"
      },
      "execution_count": 11,
      "outputs": []
    },
    {
      "cell_type": "markdown",
      "source": [
        "We can't plot a torch, so we need to change it to np"
      ],
      "metadata": {
        "id": "dXxt8weZIvAi"
      }
    },
    {
      "cell_type": "code",
      "source": [
        "plt.scatter(X.numpy(), y.numpy());"
      ],
      "metadata": {
        "colab": {
          "base_uri": "https://localhost:8080/",
          "height": 430
        },
        "id": "49nbJu2rIjKK",
        "outputId": "2f161569-388e-45c8-bf85-129d97489577"
      },
      "execution_count": 12,
      "outputs": [
        {
          "output_type": "display_data",
          "data": {
            "text/plain": [
              "<Figure size 640x480 with 1 Axes>"
            ],
            "image/png": "[encoded data removed]"
          },
          "metadata": {}
        }
      ]
    },
    {
      "cell_type": "code",
      "source": [
        "model = nn.Linear(in_features=1, out_features=1)\n",
        "\n",
        "print(model.weight)\n",
        "print(model.bias)"
      ],
      "metadata": {
        "colab": {
          "base_uri": "https://localhost:8080/"
        },
        "id": "ZTR4bDRjoxep",
        "outputId": "dcefbbe6-694b-4268-c41e-a4cfab2e08e1"
      },
      "execution_count": 13,
      "outputs": [
        {
          "output_type": "stream",
          "name": "stdout",
          "text": [
            "Parameter containing:\n",
            "tensor([[-0.3553]], requires_grad=True)\n",
            "Parameter containing:\n",
            "tensor([-0.9208], requires_grad=True)\n"
          ]
        }
      ]
    },
    {
      "cell_type": "code",
      "source": [
        "class Model(nn.Module):\n",
        "\n",
        "    def __init__(self,in_features,out_features):\n",
        "        super().__init__()\n",
        "        self.linear = nn.Linear(in_features,out_features)\n",
        "\n",
        "    def forward(self,x):\n",
        "        y_pred = self.linear(x)\n",
        "        return y_pred"
      ],
      "metadata": {
        "id": "ifyjL5UNI72n"
      },
      "execution_count": 14,
      "outputs": []
    },
    {
      "cell_type": "code",
      "source": [
        "model = Model(1,1)\n",
        "\n",
        "for name,param in model.named_parameters():\n",
        "    print(name, '\\t', param.item())"
      ],
      "metadata": {
        "colab": {
          "base_uri": "https://localhost:8080/"
        },
        "id": "A6A3gvj4MNPj",
        "outputId": "69ddc425-2268-447b-d89a-22f0637c8688"
      },
      "execution_count": 15,
      "outputs": [
        {
          "output_type": "stream",
          "name": "stdout",
          "text": [
            "linear.weight \t -0.8884897232055664\n",
            "linear.bias \t 0.5110741853713989\n"
          ]
        }
      ]
    },
    {
      "cell_type": "code",
      "source": [
        "criterion = nn.MSELoss()\n",
        "optimizer = torch.optim.SGD(model.parameters(), lr= 0.001)"
      ],
      "metadata": {
        "id": "5aFjpXMupn3j"
      },
      "execution_count": 16,
      "outputs": []
    },
    {
      "cell_type": "code",
      "source": [
        "epochs = 50\n",
        "losses = list()\n",
        "\n",
        "for i in range(epochs):\n",
        "    i += 1\n",
        "    y_pred = model.forward(X)\n",
        "    loss = criterion(y_pred,y)\n",
        "    losses.append(loss)\n",
        "    print(f\"epoch {i}, loss: {loss.item()}, weight: {model.linear.weight.item()}, bias: {model.linear.bias.item()}\")\n",
        "    optimizer.zero_grad()\n",
        "    loss.backward()\n",
        "    optimizer.step()"
      ],
      "metadata": {
        "colab": {
          "base_uri": "https://localhost:8080/"
        },
        "id": "Ei6ZnDuNslbp",
        "outputId": "1814941a-9b5a-4a76-8b7f-bf769d0d64cb"
      },
      "execution_count": 17,
      "outputs": [
        {
          "output_type": "stream",
          "name": "stdout",
          "text": [
            "epoch 1, loss: 7649.41748046875, weight: -0.8884897232055664, bias: 0.5110741853713989\n",
            "epoch 2, loss: 3958.455078125, weight: 4.230221748352051, bias: 0.6650450229644775\n",
            "epoch 3, loss: 2052.94384765625, weight: 0.552253782749176, bias: 0.5576536059379578\n",
            "epoch 4, loss: 1069.19580078125, weight: 3.1948342323303223, bias: 0.6380533576011658\n",
            "epoch 5, loss: 561.3193969726562, weight: 1.2960031032562256, bias: 0.5835207104682922\n",
            "epoch 6, loss: 299.1192626953125, weight: 2.6602463722229004, bias: 0.6259375214576721\n",
            "epoch 7, loss: 163.7530059814453, weight: 1.6799204349517822, bias: 0.5986930727958679\n",
            "epoch 8, loss: 93.8664321899414, weight: 2.3842036724090576, bias: 0.6214997172355652\n",
            "epoch 9, loss: 57.78477478027344, weight: 1.8780696392059326, bias: 0.6083423495292664\n",
            "epoch 10, loss: 39.15546798706055, weight: 2.241638660430908, bias: 0.6210241317749023\n",
            "epoch 11, loss: 29.536108016967773, weight: 1.9803128242492676, bias: 0.6151385307312012\n",
            "epoch 12, loss: 24.568265914916992, weight: 2.1679837703704834, bias: 0.6225923299789429\n",
            "epoch 13, loss: 22.001853942871094, weight: 2.033043384552002, bias: 0.6204599738121033\n",
            "epoch 14, loss: 20.675188064575195, weight: 2.129904270172119, bias: 0.6252138614654541\n",
            "epoch 15, loss: 19.988595962524414, weight: 2.0602126121520996, bias: 0.625018298625946\n",
            "epoch 16, loss: 19.6324462890625, weight: 2.110191822052002, bias: 0.6283774375915527\n",
            "epoch 17, loss: 19.446866989135742, weight: 2.0741851329803467, bias: 0.629180908203125\n",
            "epoch 18, loss: 19.349376678466797, weight: 2.099961042404175, bias: 0.6318191289901733\n",
            "epoch 19, loss: 19.29735565185547, weight: 2.0813450813293457, bias: 0.6331374645233154\n",
            "epoch 20, loss: 19.268800735473633, weight: 2.094625473022461, bias: 0.6354025602340698\n",
            "epoch 21, loss: 19.252378463745117, weight: 2.0849881172180176, bias: 0.6369858384132385\n",
            "epoch 22, loss: 19.24221420288086, weight: 2.0918171405792236, bias: 0.639057457447052\n",
            "epoch 23, loss: 19.235280990600586, weight: 2.086815118789673, bias: 0.6407766938209534\n",
            "epoch 24, loss: 19.230016708374023, weight: 2.0903139114379883, bias: 0.6427475810050964\n",
            "epoch 25, loss: 19.225624084472656, weight: 2.08770489692688, bias: 0.6445360779762268\n",
            "epoch 26, loss: 19.2216739654541, weight: 2.089484214782715, bias: 0.6464540362358093\n",
            "epoch 27, loss: 19.217954635620117, weight: 2.0881106853485107, bias: 0.6482774615287781\n",
            "epoch 28, loss: 19.214366912841797, weight: 2.0890026092529297, bias: 0.6501672863960266\n",
            "epoch 29, loss: 19.210830688476562, weight: 2.088266611099243, bias: 0.6520078182220459\n",
            "epoch 30, loss: 19.207338333129883, weight: 2.088700294494629, bias: 0.6538822054862976\n",
            "epoch 31, loss: 19.203859329223633, weight: 2.0882937908172607, bias: 0.6557307243347168\n",
            "epoch 32, loss: 19.200393676757812, weight: 2.0884909629821777, bias: 0.6575962901115417\n",
            "epoch 33, loss: 19.196943283081055, weight: 2.088254690170288, bias: 0.6594480872154236\n",
            "epoch 34, loss: 19.193492889404297, weight: 2.088329553604126, bias: 0.661308228969574\n",
            "epoch 35, loss: 19.190048217773438, weight: 2.0881810188293457, bias: 0.6631608009338379\n",
            "epoch 36, loss: 19.186603546142578, weight: 2.088192939758301, bias: 0.6650172472000122\n",
            "epoch 37, loss: 19.183164596557617, weight: 2.088089942932129, bias: 0.6668694019317627\n",
            "epoch 38, loss: 19.179737091064453, weight: 2.088069200515747, bias: 0.6687230467796326\n",
            "epoch 39, loss: 19.176294326782227, weight: 2.087989568710327, bias: 0.6705740690231323\n",
            "epoch 40, loss: 19.17287254333496, weight: 2.0879523754119873, bias: 0.6724254488945007\n",
            "epoch 41, loss: 19.169450759887695, weight: 2.0878844261169434, bias: 0.6742750406265259\n",
            "epoch 42, loss: 19.16602325439453, weight: 2.087838649749756, bias: 0.6761243939399719\n",
            "epoch 43, loss: 19.16261100769043, weight: 2.0877773761749268, bias: 0.6779723763465881\n",
            "epoch 44, loss: 19.15919303894043, weight: 2.0877270698547363, bias: 0.6798197627067566\n",
            "epoch 45, loss: 19.155778884887695, weight: 2.0876688957214355, bias: 0.6816660165786743\n",
            "epoch 46, loss: 19.152376174926758, weight: 2.087616443634033, bias: 0.6835115551948547\n",
            "epoch 47, loss: 19.148971557617188, weight: 2.087559938430786, bias: 0.685356080532074\n",
            "epoch 48, loss: 19.145570755004883, weight: 2.0875062942504883, bias: 0.6871998310089111\n",
            "epoch 49, loss: 19.142169952392578, weight: 2.0874507427215576, bias: 0.6890426278114319\n",
            "epoch 50, loss: 19.138778686523438, weight: 2.0873966217041016, bias: 0.690884530544281\n"
          ]
        }
      ]
    },
    {
      "cell_type": "code",
      "source": [
        "for i in range(epochs):\n",
        "    losses[i]=losses[i].detach().numpy()"
      ],
      "metadata": {
        "id": "IOud_ThcxKyT"
      },
      "execution_count": null,
      "outputs": []
    },
    {
      "cell_type": "code",
      "source": [
        "plt.plot(range(epochs), losses)\n",
        "plt.xlabel('epoch')\n",
        "plt.ylabel('loss')"
      ],
      "metadata": {
        "colab": {
          "base_uri": "https://localhost:8080/",
          "height": 471
        },
        "id": "n7h8bV1etTl7",
        "outputId": "456e0b33-d179-47c3-e2b6-5ed3101f25f8"
      },
      "execution_count": 21,
      "outputs": [
        {
          "output_type": "execute_result",
          "data": {
            "text/plain": [
              "Text(0, 0.5, 'loss')"
            ]
          },
          "metadata": {},
          "execution_count": 21
        },
        {
          "output_type": "display_data",
          "data": {
            "text/plain": [
              "<Figure size 640x480 with 1 Axes>"
            ],
            "image/png": "[encoded data removed]"
          },
          "metadata": {}
        }
      ]
    },
    {
      "cell_type": "code",
      "source": [
        "current_weight = model.linear.weight.item()\n",
        "current_bias = model.linear.bias.item()\n",
        "predicted_y = current_weight*X + current_bias\n",
        "\n",
        "plt.scatter(X.numpy(), y.numpy())\n",
        "plt.plot(X.numpy(), predicted_y, 'r')"
      ],
      "metadata": {
        "colab": {
          "base_uri": "https://localhost:8080/",
          "height": 447
        },
        "id": "56ZnAJLlwoYr",
        "outputId": "9809fe47-7f6c-4151-c714-0b1f28d0f481"
      },
      "execution_count": 23,
      "outputs": [
        {
          "output_type": "execute_result",
          "data": {
            "text/plain": [
              "[<matplotlib.lines.Line2D at 0x7be6ebad0250>]"
            ]
          },
          "metadata": {},
          "execution_count": 23
        },
        {
          "output_type": "display_data",
          "data": {
            "text/plain": [
              "<Figure size 640x480 with 1 Axes>"
            ],
            "image/png": "[encoded data removed]"
          },
          "metadata": {}
        }
      ]
    },
    {
      "cell_type": "code",
      "source": [],
      "metadata": {
        "id": "Fo7yonXmxhCq"
      },
      "execution_count": null,
      "outputs": []
    }
  ]
}